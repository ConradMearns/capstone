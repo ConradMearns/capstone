{
 "cells": [
  {
   "cell_type": "code",
   "execution_count": 25,
   "metadata": {},
   "outputs": [],
   "source": [
    "import requests\n",
    "import numpy\n",
    "import urllib3\n",
    "from bs4 import BeautifulSoup\n",
    "from bs4.element import Comment\n",
    "\n",
    "import spacy\n",
    "from collections import Counter\n",
    "from string import punctuation\n",
    "\n",
    "import en_core_web_sm\n",
    "nlp = en_core_web_sm.load()"
   ]
  },
  {
   "cell_type": "code",
   "execution_count": 2,
   "metadata": {},
   "outputs": [],
   "source": [
    "def top_sentance(text, limit):\n",
    "    keyword = []\n",
    "    pos_tag = ['PROPN', 'ADJ', 'NOUN', 'VERB']\n",
    "    doc = nlp(text.lower())\n",
    "    for token in doc:\n",
    "        if ( token.text in nlp.Defaults.stop_words or token.text in punctuation ):\n",
    "            continue\n",
    "        if ( token.pos_ in pos_tag ):\n",
    "            keyword.append(token.text)\n",
    "\n",
    "\n",
    "\n",
    "    freq_word = Counter(keyword)\n",
    "    max_freq = Counter(keyword).most_common(1)[0][1]\n",
    "    for w in freq_word:\n",
    "        freq_word[w] = (freq_word[w]/max_freq)\n",
    "\n",
    "\n",
    "    # print(freq_word)\n",
    "\n",
    "\n",
    "    sent_strength = {}\n",
    "    for sent in doc.sents:\n",
    "        for word in sent:\n",
    "            if word.text in freq_word.keys():\n",
    "                if sent in sent_strength.keys():\n",
    "                    sent_strength[sent] += freq_word[word.text]\n",
    "                else:\n",
    "                    sent_strength[sent] = freq_word[word.text]\n",
    "\n",
    "\n",
    "    # print(sent_strength)\n",
    "\n",
    "    summary = []\n",
    "    sorted_x = sorted(sent_strength.items(), key=lambda kv: kv[1], reverse = True)\n",
    "\n",
    "    counter = 0\n",
    "    for i in range(len(sorted_x)):\n",
    "        summary.append(str(sorted_x[i][0]).capitalize())\n",
    "        counter += 1\n",
    "        if (counter >= limit):\n",
    "            break\n",
    "\n",
    "    return ' '.join(summary)"
   ]
  },
  {
   "cell_type": "code",
   "execution_count": 3,
   "metadata": {},
   "outputs": [],
   "source": [
    "discord_text = \"\"\"\n",
    "I have a couple thoughts on grand visions and pipe dreams - and one thing semi related but off topic\n",
    "\n",
    "# off topic\n",
    "One of the statements made last night that I think is worth sharing, was on someones view of meditation. They argues that the majority of Westerners see meditation as a \"stress ball\", a tool for managing stress, anxiety, and finding balance again - while the actually purpose of meditation is more like the Hubble Telescope. There is no objective \"end goal\" to meditation, it's about exploring the soul, and consciousness. There are no guarantees to breakthroughs, and it shouldn't be mistakenly used as a tool to acquire such goals.\n",
    "I thought about this in the context of our work, and our crafts - what we are trying to achieve vs what we are wanting to explore. I've been afraid of failure, specifically with Constellations, but this insight has made me feel more comfortable with choosing appropriate goals and asking much broader questions. (this is related to spaCy actually)\n",
    "\n",
    "# pipedream\n",
    "My biggest dream is to hold a managerial position of a data-based company, so that I and others can explore and create interesting machines without risking starvation. A lot of what I want to do is just mess around with these things, but obviously it's difficult to take the more artistic actions I want and turn them into a sustainable business. My mind has opened up to this a bit more in the past months, but I think ultimately I have to kill this dream and let my actions build such an ecosystem more naturally - whatever that actually means lol\n",
    "\n",
    "\n",
    "(have to make a second message cuz I guess there's a character limit)\n",
    "[\n",
    "11:31 AM\n",
    "]\n",
    "roncad\n",
    ":\n",
    "in the context of Constellations, I have a general idea on where to start, and vague ideas on how to expand, and also so so so many questions. Some of these questions could actually be value-rich enough to find themselves in a market. \n",
    "\n",
    "For example - in last night's discussion, about 20 people where attempting to share Zoom in order to share ideas and argue. Many ideas were lost, many questions could not have been asked because of the discussion format. This would have worked well for Constellation, however there wouldn't be the 'personal' touch that video-conferencing gives. Constellation should experiment with alternative medias, such as voice and video.\n",
    "\n",
    "This creates a lot of other problems in terms of quotation - but we do have the ability to easily extract text from these things. Transcripts would allow us to share quotes and preserve information lineage (which I think is important to battle misinformation).\n",
    "\n",
    "Another issue I can foresee, is that the quantity of information being added to a system could easily overwhelm a user with garbage - even if some ideas are still valuable, the time-to-context to understand an idea may be too long for it to be worth while for us, or such side topics will simply not interest us. My question is, can we use Machine Learning (such as with spaCy) to assist the creation, separation, tagging, and summarization of large threads - we can then identify what topics a user is most interested in reading / responding too, and find conversations within the network that best suite the user\n",
    "\n",
    "\"\"\""
   ]
  },
  {
   "cell_type": "code",
   "execution_count": 4,
   "metadata": {},
   "outputs": [
    {
     "name": "stdout",
     "output_type": "stream",
     "text": [
      "They argues that the majority of westerners see meditation as a \"stress ball\", a tool for managing stress, anxiety, and finding balance again - while the actually purpose of meditation is more like the hubble telescope.\n"
     ]
    }
   ],
   "source": [
    "print(top_sentance(discord_text, 1))"
   ]
  },
  {
   "cell_type": "code",
   "execution_count": 5,
   "metadata": {},
   "outputs": [
    {
     "data": {
      "text/plain": [
       "'f7dsfnFTFgytREvUZFYUGHts90ic90fdsf'"
      ]
     },
     "execution_count": 5,
     "metadata": {},
     "output_type": "execute_result"
    }
   ],
   "source": [
    "def safe_str(text):\n",
    "    return \"\".join(x for x in text if x.isalnum())\n",
    "safe_str(\"f7dsfn*&^F&TF& gyt^&R$Ev U ZF YUGHt.s90ic90/fds/f//:::%%%%\")"
   ]
  },
  {
   "cell_type": "code",
   "execution_count": 6,
   "metadata": {},
   "outputs": [
    {
     "name": "stdout",
     "output_type": "stream",
     "text": [
      "20200515T141139-0700_ExportTabsURLs.txt  default.nix  env.sh  soil-compac\r\n",
      "Untitled.ipynb\t\t\t\t effects      result\r\n"
     ]
    }
   ],
   "source": [
    "!ls"
   ]
  },
  {
   "cell_type": "code",
   "execution_count": 14,
   "metadata": {
    "scrolled": true
   },
   "outputs": [
    {
     "name": "stdout",
     "output_type": "stream",
     "text": [
      "https://www.hindawi.com/journals/tswj/2014/404059/\n",
      "\n",
      "https://www.tandfonline.com/doi/abs/10.1080/00958964.1987.9942736\n",
      "\n",
      "https://www.mdpi.com/2073-4441/11/10/2118\n",
      "\n",
      "https://www.agu.org/Events/SCIWS8-Exploring-Surface-Processes-how-to-build-coupled-models\n",
      "\n",
      "https://pdfs.semanticscholar.org/67b8/5eba8c7c2329303b3f6f53889f3d5dfa8e47.pdf\n",
      "\n",
      "http://www-ljk.imag.fr/Publications/Basilic/com.lmc.publi.PUBLI_Inproceedings@117681e94b6_fff75c/FastErosion_PG07.pdf\n",
      "\n",
      "http://www.omafra.gov.on.ca/english/engineer/facts/12-053.htm\n",
      "\n",
      "https://en.wikipedia.org/wiki/Erosion_control\n",
      "\n",
      "https://en.wikipedia.org/wiki/Sediment#Erosion_and_agricultural_sediment_delivery_to_rivers\n",
      "\n",
      "https://www.jswconline.org/content/58/3/128\n",
      "\n",
      "https://limo.libis.be/primo-explore/fulldisplay?docid=LIRIAS1093017&context=L&vid=Lirias&search_scope=Lirias&tab=default_tab&lang=en_US&fromSitemap=1\n",
      "\n",
      "https://en.wikipedia.org/wiki/Baer%E2%80%93Babinet_law\n",
      "\n",
      "https://link.springer.com/referenceworkentry/10.1007%2F3-540-31060-6_22\n",
      "\n",
      "https://dot.ca.gov/programs/environmental-analysis\n",
      "\n",
      "http://riparianhabitatrestoration.ca/575/bioengintro.htm\n",
      "\n",
      "https://www.hatarilabs.com/ih-en/modeling-of-soil-erosion-with-landlab-in-python-free-software\n",
      "\n",
      "https://landlab.github.io/#/\n",
      "\n",
      "https://www.ncbi.nlm.nih.gov/pmc/articles/PMC5896951/\n",
      "\n",
      "https://www.geosci-model-dev.net/12/1267/2019/gmd-12-1267-2019.pdf\n",
      "\n",
      "https://github.com/badlands-model\n",
      "\n",
      "https://www.researchgate.net/publication/235984970_Contour_Planting_A_Strategy_to_Reduce_Soil_Erosion_on_Steep_Slopes\n",
      "\n",
      "https://extension.psu.edu/avoiding-soil-compaction\n",
      "\n",
      "https://agris.fao.org/agris-search/search.do?recordID=PL880045588\n",
      "\n"
     ]
    }
   ],
   "source": [
    "f = open(\"20200515T141139-0700_ExportTabsURLs.txt\", \"r\")\n",
    "for x in f:\n",
    "    print(x)"
   ]
  },
  {
   "cell_type": "code",
   "execution_count": 70,
   "metadata": {},
   "outputs": [
    {
     "name": "stdout",
     "output_type": "stream",
     "text": [
      "pdf: http://www.dot.ca.gov/hq/env/stormwater/pdf/CTSW-RT-06-137-20-1.pdf\n"
     ]
    },
    {
     "data": {
      "text/plain": [
       "['http://www.dot.ca.gov/hq/env/stormwater/pdf/CTSW-RT-06-137-20-1.pdf']"
      ]
     },
     "execution_count": 70,
     "metadata": {},
     "output_type": "execute_result"
    }
   ],
   "source": [
    "def get_all_pdfs_url(url):\n",
    "#     url = 'https://extension.psu.edu/avoiding-soil-compaction'\n",
    "    html = requests.get(url)\n",
    "    soup = BeautifulSoup(html.text, \"html.parser\")\n",
    "\n",
    "    pdfs = []\n",
    "    current_link = ''\n",
    "\n",
    "    for link in soup.find_all('a'):\n",
    "        current_link = link.get('href')\n",
    "        if current_link is not None and current_link.endswith('pdf'):\n",
    "            print('pdf: ' + current_link)\n",
    "            pdfs.append(current_link)\n",
    "    return pdfs\n",
    "            \n",
    "            \n",
    "def get_all_pdfs(html):\n",
    "    soup = BeautifulSoup(html.text, \"html.parser\")\n",
    "\n",
    "    pdfs = []\n",
    "    current_link = ''\n",
    "\n",
    "    for link in soup.find_all('a'):\n",
    "        current_link = link.get('href')\n",
    "        if current_link is not None and current_link.endswith('pdf'):\n",
    "            print('pdf: ' + current_link)\n",
    "            pdfs.append(current_link)\n",
    "    return pdfs\n",
    "        \n",
    "        \n",
    "get_all_pdfs_url('https://en.wikipedia.org/wiki/Erosion_control')\n",
    "        "
   ]
  },
  {
   "cell_type": "code",
   "execution_count": 26,
   "metadata": {},
   "outputs": [
    {
     "name": "stdout",
     "output_type": "stream",
     "text": [
      "          Erosion control   From Wikipedia, the free encyclopedia    Jump to navigation  Jump to search   Terraces, conservation tillage, and conservation buffers save soil and improve water quality on this Iowa farm.   Hydroseeding in the United Kingdom  Erosion control is the practice of preventing or controlling wind or water erosion in agriculture , land development , coastal areas , river banks and construction . Effective erosion controls handle surface runoff and are important techniques in preventing water pollution , soil loss , wildlife habitat loss and human property loss.  Contents   1  Usage  2  Examples  3  Mathematical modeling  4  See also  5  Notes  6  References  7  External links    Usage [ edit ]  Erosion controls are used in natural areas, agricultural settings or urban environments. In urban areas erosion controls are often part of stormwater runoff management programs required by local governments. The controls often involve the creation of a physical barrier, such as vegetation or rock, to absorb some of the energy of the wind or water that is causing the erosion. They also involve building and maintaining storm drains . On construction sites they are often implemented in conjunction with sediment controls such as sediment basins and silt fences . Bank erosion is a natural process: without it, rivers would not meander and change course. However, land management patterns that change the hydrograph and/or vegetation cover can act to increase or decrease channel migration rates. In many places, whether or not the banks are unstable due to human activities, people try to keep a river in a single place. This can be done for environmental reclamation or to prevent a river from changing course into land that is being used by people. One way that this is done is by placing riprap or gabions along the bank.  Examples [ edit ]  Examples of erosion control methods include:   buffer strip  cellular confinement systems [1]  crop rotation  conservation tillage  contour bunding  contour plowing  cover crops  fiber rolls (also called straw wattles)  gabions  hydroseeding  level spreaders  mulching  perennial crops  plasticulture  polyacrylamide (as a coagulant)  reforestation  riparian buffer  riprap  strip farming  sand fence  vegetated waterway (bioswale)  terracing  windbreaks [2]   Mathematical modeling [ edit ]  Since the 1920s and 1930s [3] scientists have been creating mathematical models for understanding the mechanisms of soil erosion and resulting sediment surface runoff , including an early paper by Albert Einstein applying Baer's law . [4] These models have addressed both gully and sheet erosion. Earliest models were a simple set of linked equations which could be employed by manual calculation. By the 1970s the models had expanded to complex computer models addressing nonpoint source pollution with thousands of lines of computer code. [5] The more complex models were able to address nuances in micrometeorology, soil particle size distributions and micro-terrain variation.  See also [ edit ]    Environment portal  Ecology portal  Earth sciences portal  Bridge scour  Burned area emergency response  Certified Professional in Erosion and Sediment Control  Coastal management  Dust Bowl  Natural Resources Conservation Service (United States)  Universal Soil Loss Equation  Vetiver System  Notes [ edit ]    ^  State of California Department of Transportation, Division of Environmental Analysis, Stormwater Program. Sacramento, CA. \"Cellular Confinement System Research.\" 2006.   ^  Tennessee Department of Environment and Conservation. Nashville, TN. \"Tennessee Erosion and Sediment Control Handbook.\" 2002.   ^  Robert E. Horton. 1933   ^  Albert Einstein. 1926   ^  C. Michael Hogan, Leda Patmore, Gary Latshaw, Harry Seidman et al. 1973    References [ edit ]   Albert Einstein. 1926. Die Ursache der Mäanderbildung der Flußläufe und des sogenannten Baerschen Gesetzes , Die Naturwissenschaften, 11, S. 223–224  C. Michael Hogan, Leda Patmore, Gary Latshaw, Harry Seidman et al. 1973. Computer modeling of pesticide transport in soil for five instrumented watersheds , U.S. Environmental Protection Agency Southeast Water laboratory, Athens, Ga. by ESL Inc. , Sunnyvale, California  Robert E. Horton. 1933. The Horton Papers  U.S. Natural Resources Conservation Service (NRCS). Washington, DC. \"National Conservation Practice Standards.\" National Handbook of Conservation Practices. Accessed 2009-03-28.   External links [ edit ]  \"Saving Runaway Farm Land\", November 1930, Popular Mechanics One of the first articles on the problem of soil erosion control  Erosion Control Technology Council - a trade organization that mission is to educate and standardize the erosion control industry  International Erosion Control Association - Professional Association, Publications, Training  WatchYourDirt.com - Erosion Control Educational Video Resource  Soil Bioengineering and Biotechnical Slope Stabilization - Erosion Control subsection of a website on Riparian Habitat Restoration  v t e Rivers , streams and springs Rivers  Alluvial river  Braided river  Blackwater river  Channel  Channel pattern  Channel types  Confluence  Distributary  Drainage basin  Subterranean river  River bifurcation  River ecosystem  River source  Tributary  more...  Streams  Arroyo  Bourne  Burn  Chalk stream  Coulee  Current  Stream  Stream bed  Stream channel  Stream gradient  Stream pool  Perennial stream  Winterbourne  more...  Springs  Geyser  Sacred spring  Hot spring  Karst spring  Mineral spring  Rhythmic spring  Spring  Spring horizon  more...  Sedimentary processes and erosion  Abrasion  Anabranch  Aggradation  Armor  Bed load  Bed material load  Granular flow  Debris flow  Deposition  Dissolved load  Downcutting  Erosion  Headward erosion  Knickpoint  Palaeochannel  Progradation  Retrogradation  Saltation  Secondary flow  Sediment transport  Suspended load  Wash load  Water gap  Fluvial landforms  Ait  Alluvial fan  Antecedent drainage stream  Avulsion  Bank  Bar  Bayou  Billabong  Canyon  Chine  Cut bank  Estuary  Fluvial terrace  Gill  Gulch  Gully  Glen  Meander scar  Mouth bar  Oxbow lake  Riffle-pool sequence  Point bar  Ravine  Rill  River island  Rock-cut basin  Sedimentary basin  Sedimentary structures  Strath  Thalweg  River valley  Wadi  Fluvial flow  Helicoidal flow  International Scale of River Difficulty  Meander  Plunge pool  Rapids  Riffle  Shoal  Waterfall  Whitewater  Surface runoff  Agricultural wastewater treatment  Effluent  First flush  Urban runoff  Wastewater  Floods and stormwater  100-year flood  Crevasse splay  Flash flood  Flood  Flood barrier  Flood control  Flood forecasting  Flood-meadow  Floodplain  Flood pulse concept  Flooded grasslands and savannas  Storm Water Management Model  Return period  River measurement and modelling  Baer's law  Baseflow  Bradshaw model  Discharge (hydrology)  Drainage density  Exner equation  Groundwater model  Hack's law  Hjulström curve  Hydrograph  Hydrological modelling  Hydrological transport model  Infiltration (hydrology)  Main stem  Playfair's Law  Relief ratio  River continuum concept  Rouse number  Runoff curve number  Runoff model (reservoir)  Stream gauge  Universal Soil Loss Equation  WAFLEX  Wetted perimeter  Volumetric flow rate  River engineering  Aqueduct  Balancing lake  Canal  Check dam  Dam  Drop structure  Daylighting  Detention basin  Erosion control  Fish ladder  Floodplain restoration  Flume  Infiltration basin  Leat  Levee  Retention basin  Revetment  Riparian zone restoration  Stream restoration  Weir  River sports  Canyoning  Rafting  River surfing  Riverboarding  Whitewater canoeing  Whitewater kayaking  Whitewater slalom  Other topics  Aquifer  Aquatic toxicology  Body of water  Limnology  Riparian zone  River civilization  River cruise  Surface water  World Rivers Day   Lists of rivers  Rivers by length  Rivers by discharge rate  Drainage basins  Whitewater rivers  Flash floods  River name etymologies   v t e Viticulture Biology and horticulture  Ampelography  Annual growth cycle of grapevines  Grape varieties  Grapes  Hybrid grape  International Grape Genome Program  Ripening ( Veraison )  Rootstock  Vineyard  Vitis  Vitis vinifera  Environmental variation  Climate categories  Diurnal temperature variation  Drainage  Microclimate  Regional climate levels  Soil types  Terroir  Topography  aspect  elevation  slope  Vineyard planting  Grapevine planting  Propagation  Row orientation  Trellis design  Vine training  Yield  Vineyard management  Canopy  Clos  Coulure  Erosion control  Fertilizer  Frost damage prevention  Green harvest ( Vendange verte )  Integrated pest management  Irrigation  Klopotec  Millerandage  Pruning  Weed control  Harvest  Brix  Festivals  Noble rot  Ripeness  Vintage  Weather  Pests and  diseases  Birds  Black rot  Botrytis bunch rot  Bot canker  Dead arm  Downy mildew  Grapevine yellows  Great French Wine Blight  Lepidoptera  Nematodes  Phylloxera  Pierce's disease  Powdery mildew  Uncinula necator  Red spider mite  Vine moth  Approaches and issues  Adaptive management  Biodynamic wine  Climate change  Effects of climate change on wine production  Environmental stewardship  Organic farming  Sustainable agriculture  See also  Glossary of viticulture terms  Glossary of wine terms  Glossary of winemaking terms  Oenology  Outline of wine  Wine  Winemaking   Authority control   NDL : 00569928       Retrieved from \" https://en.wikipedia.org/w/index.php?title=Erosion_control&oldid=956217149 \"  Categories : Construction Soil erosion Earthworks Riparian zone Sustainable design Water pollution Hidden categories: Wikipedia articles with NDL identifiers         Navigation menu    Personal tools   Not logged in Talk Contributions Create account Log in      Namespaces   Article Talk       Variants         Views   Read Edit View history       More        Search                   Navigation   Main page Contents Featured content Current events Random article Donate to Wikipedia Wikipedia store     Interaction   Help About Wikipedia Community portal Recent changes Contact page     Tools   What links here Related changes Upload file Special pages Permanent link Page information Wikidata item Cite this page     Print/export   Download as PDF Printable version     Languages   Afrikaans العربية 日本語 Slovenčina Українська 中文  Edit links        This page was last edited on 12 May 2020, at 04:09 (UTC) .  Text is available under the Creative Commons Attribution-ShareAlike License ;\n",
      "additional terms may apply.  By using this site, you agree to the Terms of Use and Privacy Policy . Wikipedia® is a registered trademark of the Wikimedia Foundation, Inc. , a non-profit organization.    Privacy policy  About Wikipedia  Disclaimers  Contact Wikipedia  Developers  Statistics  Cookie statement  Mobile view          \n"
     ]
    }
   ],
   "source": [
    "def tag_visible(element):\n",
    "    if element.parent.name in ['style', 'script', 'head', 'title', 'meta', '[document]']:\n",
    "        return False\n",
    "    if isinstance(element, Comment):\n",
    "        return False\n",
    "    return True\n",
    "\n",
    "\n",
    "def text_from_html(body):\n",
    "    soup = BeautifulSoup(body, 'html.parser')\n",
    "    texts = soup.findAll(text=True)\n",
    "    visible_texts = filter(tag_visible, texts)  \n",
    "    return u\" \".join(t.strip() for t in visible_texts)\n",
    "\n",
    "html = requests.get('https://en.wikipedia.org/wiki/Erosion_control')\n",
    "print(text_from_html(html.text))"
   ]
  },
  {
   "cell_type": "code",
   "execution_count": 45,
   "metadata": {},
   "outputs": [
    {
     "data": {
      "text/plain": [
       "'The ann model was  trained to navigate a tractor over sloping terrain along a predetermined path with an average lateral d ev iation of 0.005 m.  though the model was not applicable for all field and soil conditions, t he results indicated  that ann s are capable of  accurately c ontrol ling the motion of a tractor under variable slope conditions.   '"
      ]
     },
     "execution_count": 45,
     "metadata": {},
     "output_type": "execute_result"
    }
   ],
   "source": [
    "html = requests.get('https://www.researchgate.net/publication/235984970_Contour_Planting_A_Strategy_to_Reduce_Soil_Erosion_on_Steep_Slopes')\n",
    "text = text_from_html(html.text)\n",
    "\n",
    "\n",
    "# half_len = int(len(text)/2)\n",
    "# half_text = text[0:half_len]\n",
    "\n",
    "# import re\n",
    "# half_text = re.sub('\\[.*\\]', '', half_text)\n",
    "\n",
    "top_sentance(text, 1)"
   ]
  },
  {
   "cell_type": "code",
   "execution_count": 56,
   "metadata": {},
   "outputs": [
    {
     "name": "stdout",
     "output_type": "stream",
     "text": [
      "urls = [\"https://www.hindawi.com/journals/tswj/2014/404059/\", \n",
      "\"https://www.tandfonline.com/doi/abs/10.1080/00958964.1987.9942736\", \n",
      "\"https://www.mdpi.com/2073-4441/11/10/2118\", \n",
      "\"https://www.agu.org/Events/SCIWS8-Exploring-Surface-Processes-how-to-build-coupled-models\", \n",
      "\"https://pdfs.semanticscholar.org/67b8/5eba8c7c2329303b3f6f53889f3d5dfa8e47.pdf\", \n",
      "\"http://www-ljk.imag.fr/Publications/Basilic/com.lmc.publi.PUBLI_Inproceedings@117681e94b6_fff75c/FastErosion_PG07.pdf\", \n",
      "\"http://www.omafra.gov.on.ca/english/engineer/facts/12-053.htm\", \n",
      "\"https://en.wikipedia.org/wiki/Erosion_control\", \n",
      "\"https://en.wikipedia.org/wiki/Sediment#Erosion_and_agricultural_sediment_delivery_to_rivers\", \n",
      "\"https://www.jswconline.org/content/58/3/128\", \n",
      "\"https://limo.libis.be/primo-explore/fulldisplay?docid=LIRIAS1093017&context=L&vid=Lirias&search_scope=Lirias&tab=default_tab&lang=en_US&fromSitemap=1\", \n",
      "\"https://en.wikipedia.org/wiki/Baer%E2%80%93Babinet_law\", \n",
      "\"https://link.springer.com/referenceworkentry/10.1007%2F3-540-31060-6_22\", \n",
      "\"https://dot.ca.gov/programs/environmental-analysis\", \n",
      "\"http://riparianhabitatrestoration.ca/575/bioengintro.htm\", \n",
      "\"https://www.hatarilabs.com/ih-en/modeling-of-soil-erosion-with-landlab-in-python-free-software\", \n",
      "\"https://landlab.github.io/#/\", \n",
      "\"https://www.ncbi.nlm.nih.gov/pmc/articles/PMC5896951/\", \n",
      "\"https://www.geosci-model-dev.net/12/1267/2019/gmd-12-1267-2019.pdf\", \n",
      "\"https://github.com/badlands-model\", \n",
      "\"https://www.researchgate.net/publication/235984970_Contour_Planting_A_Strategy_to_Reduce_Soil_Erosion_on_Steep_Slopes\", \n",
      "\"https://extension.psu.edu/avoiding-soil-compaction\", \n",
      "\"https://agris.fao.org/agris-search/search.do?recordID=PL880045588\", \n",
      "]"
     ]
    }
   ],
   "source": [
    "f = open(\"20200515T141139-0700_ExportTabsURLs.txt\", \"r\")\n",
    "print(\"urls = [\",end = \"\")\n",
    "for url in f:\n",
    "    print(\"\\\"\" + url.strip(\"\\n\") + \"\\\", \",)\n",
    "    \n",
    "print(\"]\",end = \"\")\n",
    "#     html = requests.get(url)\n",
    "#     soup = BeautifulSoup(html.text, \"html.parser\")\n",
    "#     print(soup.title.string)"
   ]
  },
  {
   "cell_type": "code",
   "execution_count": 61,
   "metadata": {},
   "outputs": [],
   "source": [
    "urls = [\n",
    "#     \"https://www.hindawi.com/journals/tswj/2014/404059/\", \n",
    "    \"https://www.tandfonline.com/doi/abs/10.1080/00958964.1987.9942736\", \n",
    "    \"https://www.mdpi.com/2073-4441/11/10/2118\", \n",
    "    \"https://www.agu.org/Events/SCIWS8-Exploring-Surface-Processes-how-to-build-coupled-models\", \n",
    "    \"https://pdfs.semanticscholar.org/67b8/5eba8c7c2329303b3f6f53889f3d5dfa8e47.pdf\", \n",
    "    \"http://www-ljk.imag.fr/Publications/Basilic/com.lmc.publi.PUBLI_Inproceedings@117681e94b6_fff75c/FastErosion_PG07.pdf\", \n",
    "    \"http://www.omafra.gov.on.ca/english/engineer/facts/12-053.htm\", \n",
    "    \"https://en.wikipedia.org/wiki/Erosion_control\", \n",
    "    \"https://en.wikipedia.org/wiki/Sediment#Erosion_and_agricultural_sediment_delivery_to_rivers\", \n",
    "    \"https://www.jswconline.org/content/58/3/128\", \n",
    "    \"https://limo.libis.be/primo-explore/fulldisplay?docid=LIRIAS1093017&context=L&vid=Lirias&search_scope=Lirias&tab=default_tab&lang=en_US&fromSitemap=1\", \n",
    "    \"https://en.wikipedia.org/wiki/Baer%E2%80%93Babinet_law\", \n",
    "    \"https://link.springer.com/referenceworkentry/10.1007%2F3-540-31060-6_22\", \n",
    "    \"https://dot.ca.gov/programs/environmental-analysis\", \n",
    "    \"http://riparianhabitatrestoration.ca/575/bioengintro.htm\", \n",
    "    \"https://www.hatarilabs.com/ih-en/modeling-of-soil-erosion-with-landlab-in-python-free-software\", \n",
    "    \"https://landlab.github.io/#/\", \n",
    "    \"https://www.ncbi.nlm.nih.gov/pmc/articles/PMC5896951/\", \n",
    "    \"https://www.geosci-model-dev.net/12/1267/2019/gmd-12-1267-2019.pdf\", \n",
    "    \"https://github.com/badlands-model\", \n",
    "    \"https://www.researchgate.net/publication/235984970_Contour_Planting_A_Strategy_to_Reduce_Soil_Erosion_on_Steep_Slopes\", \n",
    "    \"https://extension.psu.edu/avoiding-soil-compaction\", \n",
    "    \"https://agris.fao.org/agris-search/search.do?recordID=PL880045588\", \n",
    "]"
   ]
  },
  {
   "cell_type": "code",
   "execution_count": 1,
   "metadata": {},
   "outputs": [
    {
     "ename": "ModuleNotFoundError",
     "evalue": "No module named 'urllib3.parse'",
     "output_type": "error",
     "traceback": [
      "\u001b[0;31m------------------------------------------------\u001b[0m",
      "\u001b[0;31mModuleNotFoundError\u001b[0mTraceback (most recent call last)",
      "\u001b[0;32m<ipython-input-1-142d0469cf9d>\u001b[0m in \u001b[0;36m<module>\u001b[0;34m\u001b[0m\n\u001b[1;32m      2\u001b[0m \u001b[0;32mimport\u001b[0m \u001b[0merrno\u001b[0m\u001b[0;34m\u001b[0m\u001b[0;34m\u001b[0m\u001b[0m\n\u001b[1;32m      3\u001b[0m \u001b[0;34m\u001b[0m\u001b[0m\n\u001b[0;32m----> 4\u001b[0;31m \u001b[0;32mimport\u001b[0m \u001b[0murllib3\u001b[0m\u001b[0;34m.\u001b[0m\u001b[0mparse\u001b[0m\u001b[0;34m\u001b[0m\u001b[0;34m\u001b[0m\u001b[0m\n\u001b[0m\u001b[1;32m      5\u001b[0m \u001b[0;34m\u001b[0m\u001b[0m\n\u001b[1;32m      6\u001b[0m \u001b[0;32mfor\u001b[0m \u001b[0murl\u001b[0m \u001b[0;32min\u001b[0m \u001b[0murls\u001b[0m\u001b[0;34m:\u001b[0m\u001b[0;34m\u001b[0m\u001b[0;34m\u001b[0m\u001b[0m\n",
      "\u001b[0;31mModuleNotFoundError\u001b[0m: No module named 'urllib3.parse'"
     ]
    }
   ],
   "source": [
    "import os\n",
    "import errno\n",
    "\n",
    "import urllib3.parse\n",
    "\n",
    "for url in urls:\n",
    "    print(\"Trying\", url)\n",
    "    html = requests.get(url)\n",
    "#     soup = BeautifulSoup(html.text, \"html.parser\")\n",
    "    text = text_from_html(html.text)\n",
    "    \n",
    "    dir_n = safe_str(url)\n",
    "    html_n = os.path.join(dir_n, \"page.html\")\n",
    "    text_n = os.path.join(dir_n, \"page.txt\")\n",
    "\n",
    "    # save html and text\n",
    "    def write_file(n, t):\n",
    "        if not os.path.exists(os.path.dirname(n)):\n",
    "            try:\n",
    "                os.makedirs(os.path.dirname(n))\n",
    "            except OSError as exc: # Guard against race condition\n",
    "                if exc.errno != errno.EEXIST:\n",
    "                    raise\n",
    "        with open(n, \"w\") as f:\n",
    "            f.write(t)\n",
    "            \n",
    "    write_file(html_n, html.text)\n",
    "    write_file(text_n, text)\n",
    "    \n",
    "    \n",
    "    \n",
    "    pdfs = get_all_pdfs(html)\n",
    "    if pdfs is not None:\n",
    "        for pdf in pdfs:\n",
    "            n = os.path.join(dir_n, safe_str(pdf))\n",
    "            print(\"saving pdf to\", n)\n",
    "\n",
    "            \n",
    "            safepdfurl = urljoin(url,pdf)\n",
    "            \n",
    "            r = requests.get(safepdfurl, stream=True)\n",
    "\n",
    "            if not os.path.exists(os.path.dirname(n)):\n",
    "                try:\n",
    "                    os.makedirs(os.path.dirname(n))\n",
    "                except OSError as exc:\n",
    "                    if exc.errno != errno.EEXIST:\n",
    "                        raise\n",
    "\n",
    "            with open(n, 'wb') as fd:\n",
    "                for chunk in r.iter_content(chunk_size):\n",
    "                    fd.write(chunk)\n"
   ]
  },
  {
   "cell_type": "code",
   "execution_count": null,
   "metadata": {},
   "outputs": [],
   "source": []
  }
 ],
 "metadata": {
  "kernelspec": {
   "display_name": "Python 3",
   "language": "python",
   "name": "python3"
  },
  "language_info": {
   "codemirror_mode": {
    "name": "ipython",
    "version": 3
   },
   "file_extension": ".py",
   "mimetype": "text/x-python",
   "name": "python",
   "nbconvert_exporter": "python",
   "pygments_lexer": "ipython3",
   "version": "3.7.7"
  }
 },
 "nbformat": 4,
 "nbformat_minor": 4
}
