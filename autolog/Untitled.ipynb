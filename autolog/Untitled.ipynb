{
 "cells": [
  {
   "cell_type": "code",
   "execution_count": 1,
   "metadata": {},
   "outputs": [],
   "source": [
    "import requests\n",
    "import numpy\n",
    "import urllib3\n",
    "from bs4 import BeautifulSoup\n",
    "from bs4.element import Comment\n",
    "\n",
    "import spacy\n",
    "from collections import Counter\n",
    "from string import punctuation\n",
    "\n",
    "import en_core_web_sm\n",
    "nlp = en_core_web_sm.load()"
   ]
  },
  {
   "cell_type": "code",
   "execution_count": 2,
   "metadata": {},
   "outputs": [],
   "source": [
    "def top_sentance(text, limit):\n",
    "    keyword = []\n",
    "    pos_tag = ['PROPN', 'ADJ', 'NOUN', 'VERB']\n",
    "    doc = nlp(text.lower())\n",
    "    for token in doc:\n",
    "        if ( token.text in nlp.Defaults.stop_words or token.text in punctuation ):\n",
    "            continue\n",
    "        if ( token.pos_ in pos_tag ):\n",
    "            keyword.append(token.text)\n",
    "\n",
    "\n",
    "\n",
    "    freq_word = Counter(keyword)\n",
    "    max_freq = Counter(keyword).most_common(1)[0][1]\n",
    "    for w in freq_word:\n",
    "        freq_word[w] = (freq_word[w]/max_freq)\n",
    "\n",
    "\n",
    "    # print(freq_word)\n",
    "\n",
    "\n",
    "    sent_strength = {}\n",
    "    for sent in doc.sents:\n",
    "        for word in sent:\n",
    "            if word.text in freq_word.keys():\n",
    "                if sent in sent_strength.keys():\n",
    "                    sent_strength[sent] += freq_word[word.text]\n",
    "                else:\n",
    "                    sent_strength[sent] = freq_word[word.text]\n",
    "\n",
    "\n",
    "    # print(sent_strength)\n",
    "\n",
    "    summary = []\n",
    "    sorted_x = sorted(sent_strength.items(), key=lambda kv: kv[1], reverse = True)\n",
    "\n",
    "    counter = 0\n",
    "    for i in range(len(sorted_x)):\n",
    "        summary.append(str(sorted_x[i][0]).capitalize())\n",
    "        counter += 1\n",
    "        if (counter >= limit):\n",
    "            break\n",
    "\n",
    "    return ' '.join(summary)"
   ]
  },
  {
   "cell_type": "code",
   "execution_count": 3,
   "metadata": {},
   "outputs": [],
   "source": [
    "discord_text = \"\"\"\n",
    "I have a couple thoughts on grand visions and pipe dreams - and one thing semi related but off topic\n",
    "\n",
    "# off topic\n",
    "One of the statements made last night that I think is worth sharing, was on someones view of meditation. They argues that the majority of Westerners see meditation as a \"stress ball\", a tool for managing stress, anxiety, and finding balance again - while the actually purpose of meditation is more like the Hubble Telescope. There is no objective \"end goal\" to meditation, it's about exploring the soul, and consciousness. There are no guarantees to breakthroughs, and it shouldn't be mistakenly used as a tool to acquire such goals.\n",
    "I thought about this in the context of our work, and our crafts - what we are trying to achieve vs what we are wanting to explore. I've been afraid of failure, specifically with Constellations, but this insight has made me feel more comfortable with choosing appropriate goals and asking much broader questions. (this is related to spaCy actually)\n",
    "\n",
    "# pipedream\n",
    "My biggest dream is to hold a managerial position of a data-based company, so that I and others can explore and create interesting machines without risking starvation. A lot of what I want to do is just mess around with these things, but obviously it's difficult to take the more artistic actions I want and turn them into a sustainable business. My mind has opened up to this a bit more in the past months, but I think ultimately I have to kill this dream and let my actions build such an ecosystem more naturally - whatever that actually means lol\n",
    "\n",
    "\n",
    "(have to make a second message cuz I guess there's a character limit)\n",
    "[\n",
    "11:31 AM\n",
    "]\n",
    "roncad\n",
    ":\n",
    "in the context of Constellations, I have a general idea on where to start, and vague ideas on how to expand, and also so so so many questions. Some of these questions could actually be value-rich enough to find themselves in a market. \n",
    "\n",
    "For example - in last night's discussion, about 20 people where attempting to share Zoom in order to share ideas and argue. Many ideas were lost, many questions could not have been asked because of the discussion format. This would have worked well for Constellation, however there wouldn't be the 'personal' touch that video-conferencing gives. Constellation should experiment with alternative medias, such as voice and video.\n",
    "\n",
    "This creates a lot of other problems in terms of quotation - but we do have the ability to easily extract text from these things. Transcripts would allow us to share quotes and preserve information lineage (which I think is important to battle misinformation).\n",
    "\n",
    "Another issue I can foresee, is that the quantity of information being added to a system could easily overwhelm a user with garbage - even if some ideas are still valuable, the time-to-context to understand an idea may be too long for it to be worth while for us, or such side topics will simply not interest us. My question is, can we use Machine Learning (such as with spaCy) to assist the creation, separation, tagging, and summarization of large threads - we can then identify what topics a user is most interested in reading / responding too, and find conversations within the network that best suite the user\n",
    "\n",
    "\"\"\""
   ]
  },
  {
   "cell_type": "code",
   "execution_count": 4,
   "metadata": {},
   "outputs": [
    {
     "name": "stdout",
     "output_type": "stream",
     "text": [
      "They argues that the majority of westerners see meditation as a \"stress ball\", a tool for managing stress, anxiety, and finding balance again - while the actually purpose of meditation is more like the hubble telescope.\n"
     ]
    }
   ],
   "source": [
    "print(top_sentance(discord_text, 1))"
   ]
  },
  {
   "cell_type": "code",
   "execution_count": 5,
   "metadata": {},
   "outputs": [
    {
     "data": {
      "text/plain": [
       "'f7dsfnFTFgytREvUZFYUGHts90ic90fdsf'"
      ]
     },
     "execution_count": 5,
     "metadata": {},
     "output_type": "execute_result"
    }
   ],
   "source": [
    "def safe_str(text):\n",
    "    return \"\".join(x for x in text if x.isalnum())\n",
    "safe_str(\"f7dsfn*&^F&TF& gyt^&R$Ev U ZF YUGHt.s90ic90/fds/f//:::%%%%\")"
   ]
  },
  {
   "cell_type": "code",
   "execution_count": 6,
   "metadata": {},
   "outputs": [
    {
     "name": "stdout",
     "output_type": "stream",
     "text": [
      "20200515T141139-0700_ExportTabsURLs.txt  default.nix  env.sh  result\t   text\r\n",
      "Untitled.ipynb\t\t\t\t effects      html    soil-compac\r\n"
     ]
    }
   ],
   "source": [
    "!ls"
   ]
  },
  {
   "cell_type": "code",
   "execution_count": 7,
   "metadata": {
    "scrolled": true
   },
   "outputs": [
    {
     "name": "stdout",
     "output_type": "stream",
     "text": [
      "https://www.hindawi.com/journals/tswj/2014/404059/\n",
      "\n",
      "https://www.tandfonline.com/doi/abs/10.1080/00958964.1987.9942736\n",
      "\n",
      "https://www.mdpi.com/2073-4441/11/10/2118\n",
      "\n",
      "https://www.agu.org/Events/SCIWS8-Exploring-Surface-Processes-how-to-build-coupled-models\n",
      "\n",
      "https://pdfs.semanticscholar.org/67b8/5eba8c7c2329303b3f6f53889f3d5dfa8e47.pdf\n",
      "\n",
      "http://www-ljk.imag.fr/Publications/Basilic/com.lmc.publi.PUBLI_Inproceedings@117681e94b6_fff75c/FastErosion_PG07.pdf\n",
      "\n",
      "http://www.omafra.gov.on.ca/english/engineer/facts/12-053.htm\n",
      "\n",
      "https://en.wikipedia.org/wiki/Erosion_control\n",
      "\n",
      "https://en.wikipedia.org/wiki/Sediment#Erosion_and_agricultural_sediment_delivery_to_rivers\n",
      "\n",
      "https://www.jswconline.org/content/58/3/128\n",
      "\n",
      "https://limo.libis.be/primo-explore/fulldisplay?docid=LIRIAS1093017&context=L&vid=Lirias&search_scope=Lirias&tab=default_tab&lang=en_US&fromSitemap=1\n",
      "\n",
      "https://en.wikipedia.org/wiki/Baer%E2%80%93Babinet_law\n",
      "\n",
      "https://link.springer.com/referenceworkentry/10.1007%2F3-540-31060-6_22\n",
      "\n",
      "https://dot.ca.gov/programs/environmental-analysis\n",
      "\n",
      "http://riparianhabitatrestoration.ca/575/bioengintro.htm\n",
      "\n",
      "https://www.hatarilabs.com/ih-en/modeling-of-soil-erosion-with-landlab-in-python-free-software\n",
      "\n",
      "https://landlab.github.io/#/\n",
      "\n",
      "https://www.ncbi.nlm.nih.gov/pmc/articles/PMC5896951/\n",
      "\n",
      "https://www.geosci-model-dev.net/12/1267/2019/gmd-12-1267-2019.pdf\n",
      "\n",
      "https://github.com/badlands-model\n",
      "\n",
      "https://www.researchgate.net/publication/235984970_Contour_Planting_A_Strategy_to_Reduce_Soil_Erosion_on_Steep_Slopes\n",
      "\n",
      "https://extension.psu.edu/avoiding-soil-compaction\n",
      "\n",
      "https://agris.fao.org/agris-search/search.do?recordID=PL880045588\n",
      "\n"
     ]
    }
   ],
   "source": [
    "f = open(\"20200515T141139-0700_ExportTabsURLs.txt\", \"r\")\n",
    "for x in f:\n",
    "    print(x)"
   ]
  },
  {
   "cell_type": "code",
   "execution_count": 27,
   "metadata": {},
   "outputs": [
    {
     "name": "stdout",
     "output_type": "stream",
     "text": [
      "pdf: http://www.dot.ca.gov/hq/env/stormwater/pdf/CTSW-RT-06-137-20-1.pdf\n"
     ]
    },
    {
     "data": {
      "text/plain": [
       "['http://www.dot.ca.gov/hq/env/stormwater/pdf/CTSW-RT-06-137-20-1.pdf']"
      ]
     },
     "execution_count": 27,
     "metadata": {},
     "output_type": "execute_result"
    }
   ],
   "source": [
    "def get_all_pdfs_url(url):\n",
    "#     url = 'https://extension.psu.edu/avoiding-soil-compaction'\n",
    "    html = requests.get(url)\n",
    "    soup = BeautifulSoup(html.text, \"html.parser\")\n",
    "\n",
    "    pdfs = []\n",
    "    current_link = ''\n",
    "\n",
    "    for link in soup.find_all('a'):\n",
    "        current_link = link.get('href')\n",
    "        if current_link is not None and current_link.endswith('pdf'):\n",
    "            print('pdf: ' + current_link)\n",
    "            pdfs.append(current_link)\n",
    "    return pdfs\n",
    "            \n",
    "            \n",
    "def get_all_pdfs(html):\n",
    "    soup = BeautifulSoup(html.text, \"html.parser\")\n",
    "\n",
    "    pdfs = []\n",
    "    current_link = ''\n",
    "\n",
    "    for link in soup.find_all('a'):\n",
    "        current_link = link.get('href')\n",
    "        if current_link is not None and current_link.endswith('pdf'):\n",
    "            print('pdf: ' + current_link)\n",
    "            pdfs.append(current_link)\n",
    "    return pdfs\n",
    "\n",
    "\n",
    "def get_all_pdfs_2(html):\n",
    "    soup = BeautifulSoup(html, \"html.parser\")\n",
    "\n",
    "    pdfs = []\n",
    "    current_link = ''\n",
    "\n",
    "    for link in soup.find_all('a'):\n",
    "        current_link = link.get('href')\n",
    "        if current_link is not None and current_link.endswith('pdf'):\n",
    "            print('pdf: ' + current_link)\n",
    "            pdfs.append(current_link)\n",
    "    return pdfs\n",
    "        \n",
    "        \n",
    "get_all_pdfs_url('https://en.wikipedia.org/wiki/Erosion_control')\n",
    "        "
   ]
  },
  {
   "cell_type": "code",
   "execution_count": 9,
   "metadata": {},
   "outputs": [
    {
     "name": "stdout",
     "output_type": "stream",
     "text": [
      "          Erosion control   From Wikipedia, the free encyclopedia    Jump to navigation  Jump to search   Terraces, conservation tillage, and conservation buffers save soil and improve water quality on this Iowa farm.   Hydroseeding in the United Kingdom  Erosion control is the practice of preventing or controlling wind or water erosion in agriculture , land development , coastal areas , river banks and construction . Effective erosion controls handle surface runoff and are important techniques in preventing water pollution , soil loss , wildlife habitat loss and human property loss.  Contents   1  Usage  2  Examples  3  Mathematical modeling  4  See also  5  Notes  6  References  7  External links    Usage [ edit ]  Erosion controls are used in natural areas, agricultural settings or urban environments. In urban areas erosion controls are often part of stormwater runoff management programs required by local governments. The controls often involve the creation of a physical barrier, such as vegetation or rock, to absorb some of the energy of the wind or water that is causing the erosion. They also involve building and maintaining storm drains . On construction sites they are often implemented in conjunction with sediment controls such as sediment basins and silt fences . Bank erosion is a natural process: without it, rivers would not meander and change course. However, land management patterns that change the hydrograph and/or vegetation cover can act to increase or decrease channel migration rates. In many places, whether or not the banks are unstable due to human activities, people try to keep a river in a single place. This can be done for environmental reclamation or to prevent a river from changing course into land that is being used by people. One way that this is done is by placing riprap or gabions along the bank.  Examples [ edit ]  Examples of erosion control methods include:   buffer strip  cellular confinement systems [1]  crop rotation  conservation tillage  contour bunding  contour plowing  cover crops  fiber rolls (also called straw wattles)  gabions  hydroseeding  level spreaders  mulching  perennial crops  plasticulture  polyacrylamide (as a coagulant)  reforestation  riparian buffer  riprap  strip farming  sand fence  vegetated waterway (bioswale)  terracing  windbreaks [2]   Mathematical modeling [ edit ]  Since the 1920s and 1930s [3] scientists have been creating mathematical models for understanding the mechanisms of soil erosion and resulting sediment surface runoff , including an early paper by Albert Einstein applying Baer's law . [4] These models have addressed both gully and sheet erosion. Earliest models were a simple set of linked equations which could be employed by manual calculation. By the 1970s the models had expanded to complex computer models addressing nonpoint source pollution with thousands of lines of computer code. [5] The more complex models were able to address nuances in micrometeorology, soil particle size distributions and micro-terrain variation.  See also [ edit ]    Environment portal  Ecology portal  Earth sciences portal  Bridge scour  Burned area emergency response  Certified Professional in Erosion and Sediment Control  Coastal management  Dust Bowl  Natural Resources Conservation Service (United States)  Universal Soil Loss Equation  Vetiver System  Notes [ edit ]    ^  State of California Department of Transportation, Division of Environmental Analysis, Stormwater Program. Sacramento, CA. \"Cellular Confinement System Research.\" 2006.   ^  Tennessee Department of Environment and Conservation. Nashville, TN. \"Tennessee Erosion and Sediment Control Handbook.\" 2002.   ^  Robert E. Horton. 1933   ^  Albert Einstein. 1926   ^  C. Michael Hogan, Leda Patmore, Gary Latshaw, Harry Seidman et al. 1973    References [ edit ]   Albert Einstein. 1926. Die Ursache der Mäanderbildung der Flußläufe und des sogenannten Baerschen Gesetzes , Die Naturwissenschaften, 11, S. 223–224  C. Michael Hogan, Leda Patmore, Gary Latshaw, Harry Seidman et al. 1973. Computer modeling of pesticide transport in soil for five instrumented watersheds , U.S. Environmental Protection Agency Southeast Water laboratory, Athens, Ga. by ESL Inc. , Sunnyvale, California  Robert E. Horton. 1933. The Horton Papers  U.S. Natural Resources Conservation Service (NRCS). Washington, DC. \"National Conservation Practice Standards.\" National Handbook of Conservation Practices. Accessed 2009-03-28.   External links [ edit ]  \"Saving Runaway Farm Land\", November 1930, Popular Mechanics One of the first articles on the problem of soil erosion control  Erosion Control Technology Council - a trade organization that mission is to educate and standardize the erosion control industry  International Erosion Control Association - Professional Association, Publications, Training  WatchYourDirt.com - Erosion Control Educational Video Resource  Soil Bioengineering and Biotechnical Slope Stabilization - Erosion Control subsection of a website on Riparian Habitat Restoration  v t e Rivers , streams and springs Rivers  Alluvial river  Braided river  Blackwater river  Channel  Channel pattern  Channel types  Confluence  Distributary  Drainage basin  Subterranean river  River bifurcation  River ecosystem  River source  Tributary  more...  Streams  Arroyo  Bourne  Burn  Chalk stream  Coulee  Current  Stream  Stream bed  Stream channel  Stream gradient  Stream pool  Perennial stream  Winterbourne  more...  Springs  Geyser  Sacred spring  Hot spring  Karst spring  Mineral spring  Rhythmic spring  Spring  Spring horizon  more...  Sedimentary processes and erosion  Abrasion  Anabranch  Aggradation  Armor  Bed load  Bed material load  Granular flow  Debris flow  Deposition  Dissolved load  Downcutting  Erosion  Headward erosion  Knickpoint  Palaeochannel  Progradation  Retrogradation  Saltation  Secondary flow  Sediment transport  Suspended load  Wash load  Water gap  Fluvial landforms  Ait  Alluvial fan  Antecedent drainage stream  Avulsion  Bank  Bar  Bayou  Billabong  Canyon  Chine  Cut bank  Estuary  Fluvial terrace  Gill  Gulch  Gully  Glen  Meander scar  Mouth bar  Oxbow lake  Riffle-pool sequence  Point bar  Ravine  Rill  River island  Rock-cut basin  Sedimentary basin  Sedimentary structures  Strath  Thalweg  River valley  Wadi  Fluvial flow  Helicoidal flow  International Scale of River Difficulty  Meander  Plunge pool  Rapids  Riffle  Shoal  Waterfall  Whitewater  Surface runoff  Agricultural wastewater treatment  Effluent  First flush  Urban runoff  Wastewater  Floods and stormwater  100-year flood  Crevasse splay  Flash flood  Flood  Flood barrier  Flood control  Flood forecasting  Flood-meadow  Floodplain  Flood pulse concept  Flooded grasslands and savannas  Storm Water Management Model  Return period  River measurement and modelling  Baer's law  Baseflow  Bradshaw model  Discharge (hydrology)  Drainage density  Exner equation  Groundwater model  Hack's law  Hjulström curve  Hydrograph  Hydrological modelling  Hydrological transport model  Infiltration (hydrology)  Main stem  Playfair's Law  Relief ratio  River continuum concept  Rouse number  Runoff curve number  Runoff model (reservoir)  Stream gauge  Universal Soil Loss Equation  WAFLEX  Wetted perimeter  Volumetric flow rate  River engineering  Aqueduct  Balancing lake  Canal  Check dam  Dam  Drop structure  Daylighting  Detention basin  Erosion control  Fish ladder  Floodplain restoration  Flume  Infiltration basin  Leat  Levee  Retention basin  Revetment  Riparian zone restoration  Stream restoration  Weir  River sports  Canyoning  Rafting  River surfing  Riverboarding  Whitewater canoeing  Whitewater kayaking  Whitewater slalom  Other topics  Aquifer  Aquatic toxicology  Body of water  Limnology  Riparian zone  River civilization  River cruise  Surface water  World Rivers Day   Lists of rivers  Rivers by length  Rivers by discharge rate  Drainage basins  Whitewater rivers  Flash floods  River name etymologies   v t e Viticulture Biology and horticulture  Ampelography  Annual growth cycle of grapevines  Grape varieties  Grapes  Hybrid grape  International Grape Genome Program  Ripening ( Veraison )  Rootstock  Vineyard  Vitis  Vitis vinifera  Environmental variation  Climate categories  Diurnal temperature variation  Drainage  Microclimate  Regional climate levels  Soil types  Terroir  Topography  aspect  elevation  slope  Vineyard planting  Grapevine planting  Propagation  Row orientation  Trellis design  Vine training  Yield  Vineyard management  Canopy  Clos  Coulure  Erosion control  Fertilizer  Frost damage prevention  Green harvest ( Vendange verte )  Integrated pest management  Irrigation  Klopotec  Millerandage  Pruning  Weed control  Harvest  Brix  Festivals  Noble rot  Ripeness  Vintage  Weather  Pests and  diseases  Birds  Black rot  Botrytis bunch rot  Bot canker  Dead arm  Downy mildew  Grapevine yellows  Great French Wine Blight  Lepidoptera  Nematodes  Phylloxera  Pierce's disease  Powdery mildew  Uncinula necator  Red spider mite  Vine moth  Approaches and issues  Adaptive management  Biodynamic wine  Climate change  Effects of climate change on wine production  Environmental stewardship  Organic farming  Sustainable agriculture  See also  Glossary of viticulture terms  Glossary of wine terms  Glossary of winemaking terms  Oenology  Outline of wine  Wine  Winemaking   Authority control   NDL : 00569928       Retrieved from \" https://en.wikipedia.org/w/index.php?title=Erosion_control&oldid=956217149 \"  Categories : Construction Soil erosion Earthworks Riparian zone Sustainable design Water pollution Hidden categories: Wikipedia articles with NDL identifiers         Navigation menu    Personal tools   Not logged in Talk Contributions Create account Log in      Namespaces   Article Talk       Variants         Views   Read Edit View history       More        Search                   Navigation   Main page Contents Featured content Current events Random article Donate to Wikipedia Wikipedia store     Interaction   Help About Wikipedia Community portal Recent changes Contact page     Tools   What links here Related changes Upload file Special pages Permanent link Page information Wikidata item Cite this page     Print/export   Download as PDF Printable version     Languages   Afrikaans العربية 日本語 Slovenčina Українська 中文  Edit links        This page was last edited on 12 May 2020, at 04:09 (UTC) .  Text is available under the Creative Commons Attribution-ShareAlike License ;\n",
      "additional terms may apply.  By using this site, you agree to the Terms of Use and Privacy Policy . Wikipedia® is a registered trademark of the Wikimedia Foundation, Inc. , a non-profit organization.    Privacy policy  About Wikipedia  Disclaimers  Contact Wikipedia  Developers  Statistics  Cookie statement  Mobile view          \n"
     ]
    }
   ],
   "source": [
    "def tag_visible(element):\n",
    "    if element.parent.name in ['style', 'script', 'head', 'title', 'meta', '[document]']:\n",
    "        return False\n",
    "    if isinstance(element, Comment):\n",
    "        return False\n",
    "    return True\n",
    "\n",
    "\n",
    "def text_from_html(body):\n",
    "    soup = BeautifulSoup(body, 'html.parser')\n",
    "    texts = soup.findAll(text=True)\n",
    "    visible_texts = filter(tag_visible, texts)  \n",
    "    return u\" \".join(t.strip() for t in visible_texts)\n",
    "\n",
    "html = requests.get('https://en.wikipedia.org/wiki/Erosion_control')\n",
    "print(text_from_html(html.text))"
   ]
  },
  {
   "cell_type": "code",
   "execution_count": 10,
   "metadata": {},
   "outputs": [
    {
     "data": {
      "text/plain": [
       "'The ann model was  trained to navigate a tractor over sloping terrain along a predetermined path with an average lateral d ev iation of 0.005 m.  though the model was not applicable for all field and soil conditions, t he results indicated  that ann s are capable of  accurately c ontrol ling the motion of a tractor under variable slope conditions.   '"
      ]
     },
     "execution_count": 10,
     "metadata": {},
     "output_type": "execute_result"
    }
   ],
   "source": [
    "html = requests.get('https://www.researchgate.net/publication/235984970_Contour_Planting_A_Strategy_to_Reduce_Soil_Erosion_on_Steep_Slopes')\n",
    "text = text_from_html(html.text)\n",
    "\n",
    "\n",
    "# half_len = int(len(text)/2)\n",
    "# half_text = text[0:half_len]\n",
    "\n",
    "# import re\n",
    "# half_text = re.sub('\\[.*\\]', '', half_text)\n",
    "\n",
    "top_sentance(text, 1)"
   ]
  },
  {
   "cell_type": "code",
   "execution_count": 11,
   "metadata": {},
   "outputs": [
    {
     "name": "stdout",
     "output_type": "stream",
     "text": [
      "urls = [\"https://www.hindawi.com/journals/tswj/2014/404059/\", \n",
      "\"https://www.tandfonline.com/doi/abs/10.1080/00958964.1987.9942736\", \n",
      "\"https://www.mdpi.com/2073-4441/11/10/2118\", \n",
      "\"https://www.agu.org/Events/SCIWS8-Exploring-Surface-Processes-how-to-build-coupled-models\", \n",
      "\"https://pdfs.semanticscholar.org/67b8/5eba8c7c2329303b3f6f53889f3d5dfa8e47.pdf\", \n",
      "\"http://www-ljk.imag.fr/Publications/Basilic/com.lmc.publi.PUBLI_Inproceedings@117681e94b6_fff75c/FastErosion_PG07.pdf\", \n",
      "\"http://www.omafra.gov.on.ca/english/engineer/facts/12-053.htm\", \n",
      "\"https://en.wikipedia.org/wiki/Erosion_control\", \n",
      "\"https://en.wikipedia.org/wiki/Sediment#Erosion_and_agricultural_sediment_delivery_to_rivers\", \n",
      "\"https://www.jswconline.org/content/58/3/128\", \n",
      "\"https://limo.libis.be/primo-explore/fulldisplay?docid=LIRIAS1093017&context=L&vid=Lirias&search_scope=Lirias&tab=default_tab&lang=en_US&fromSitemap=1\", \n",
      "\"https://en.wikipedia.org/wiki/Baer%E2%80%93Babinet_law\", \n",
      "\"https://link.springer.com/referenceworkentry/10.1007%2F3-540-31060-6_22\", \n",
      "\"https://dot.ca.gov/programs/environmental-analysis\", \n",
      "\"http://riparianhabitatrestoration.ca/575/bioengintro.htm\", \n",
      "\"https://www.hatarilabs.com/ih-en/modeling-of-soil-erosion-with-landlab-in-python-free-software\", \n",
      "\"https://landlab.github.io/#/\", \n",
      "\"https://www.ncbi.nlm.nih.gov/pmc/articles/PMC5896951/\", \n",
      "\"https://www.geosci-model-dev.net/12/1267/2019/gmd-12-1267-2019.pdf\", \n",
      "\"https://github.com/badlands-model\", \n",
      "\"https://www.researchgate.net/publication/235984970_Contour_Planting_A_Strategy_to_Reduce_Soil_Erosion_on_Steep_Slopes\", \n",
      "\"https://extension.psu.edu/avoiding-soil-compaction\", \n",
      "\"https://agris.fao.org/agris-search/search.do?recordID=PL880045588\", \n",
      "]"
     ]
    }
   ],
   "source": [
    "f = open(\"20200515T141139-0700_ExportTabsURLs.txt\", \"r\")\n",
    "print(\"urls = [\",end = \"\")\n",
    "for url in f:\n",
    "    print(\"\\\"\" + url.strip(\"\\n\") + \"\\\", \",)\n",
    "    \n",
    "print(\"]\",end = \"\")\n",
    "#     html = requests.get(url)\n",
    "#     soup = BeautifulSoup(html.text, \"html.parser\")\n",
    "#     print(soup.title.string)"
   ]
  },
  {
   "cell_type": "code",
   "execution_count": 12,
   "metadata": {},
   "outputs": [],
   "source": [
    "urls = [\n",
    "\"https://www.hindawi.com/journals/tswj/2014/404059/\", \n",
    "    \"https://www.tandfonline.com/doi/abs/10.1080/00958964.1987.9942736\", \n",
    "     \"https://www.mdpi.com/2073-4441/11/10/2118\", \n",
    "    \"https://www.agu.org/Events/SCIWS8-Exploring-Surface-Processes-how-to-build-coupled-models\", \n",
    "    \n",
    "     \"https://pdfs.semanticscholar.org/67b8/5eba8c7c2329303b3f6f53889f3d5dfa8e47.pdf\", \n",
    "     \"http://www-ljk.imag.fr/Publications/Basilic/com.lmc.publi.PUBLI_Inproceedings@117681e94b6_fff75c/FastErosion_PG07.pdf\", \n",
    "   \n",
    "     \"http://www.omafra.gov.on.ca/english/engineer/facts/12-053.htm\", \n",
    "    \"https://en.wikipedia.org/wiki/Erosion_control\", \n",
    "    \"https://en.wikipedia.org/wiki/Sediment#Erosion_and_agricultural_sediment_delivery_to_rivers\", \n",
    "    \"https://www.jswconline.org/content/58/3/128\", \n",
    "    \"https://limo.libis.be/primo-explore/fulldisplay?docid=LIRIAS1093017&context=L&vid=Lirias&search_scope=Lirias&tab=default_tab&lang=en_US&fromSitemap=1\", \n",
    "    \"https://en.wikipedia.org/wiki/Baer%E2%80%93Babinet_law\", \n",
    "    \"https://link.springer.com/referenceworkentry/10.1007%2F3-540-31060-6_22\", \n",
    "    \"https://dot.ca.gov/programs/environmental-analysis\", \n",
    "    \"http://riparianhabitatrestoration.ca/575/bioengintro.htm\", \n",
    "    \"https://www.hatarilabs.com/ih-en/modeling-of-soil-erosion-with-landlab-in-python-free-software\", \n",
    "    \"https://landlab.github.io/#/\", \n",
    "    \"https://www.ncbi.nlm.nih.gov/pmc/articles/PMC5896951/\", \n",
    "    \"https://www.geosci-model-dev.net/12/1267/2019/gmd-12-1267-2019.pdf\", \n",
    "    \"https://github.com/badlands-model\", \n",
    "    \"https://www.researchgate.net/publication/235984970_Contour_Planting_A_Strategy_to_Reduce_Soil_Erosion_on_Steep_Slopes\", \n",
    "    \"https://extension.psu.edu/avoiding-soil-compaction\", \n",
    "    \"https://agris.fao.org/agris-search/search.do?recordID=PL880045588\", \n",
    "]"
   ]
  },
  {
   "cell_type": "code",
   "execution_count": 13,
   "metadata": {},
   "outputs": [
    {
     "name": "stdout",
     "output_type": "stream",
     "text": [
      "Trying https://www.hindawi.com/journals/tswj/2014/404059/\n",
      "Trying https://www.tandfonline.com/doi/abs/10.1080/00958964.1987.9942736\n",
      "Trying https://www.mdpi.com/2073-4441/11/10/2118\n",
      "Trying https://www.agu.org/Events/SCIWS8-Exploring-Surface-Processes-how-to-build-coupled-models\n",
      "Trying https://pdfs.semanticscholar.org/67b8/5eba8c7c2329303b3f6f53889f3d5dfa8e47.pdf\n",
      "Trying http://www-ljk.imag.fr/Publications/Basilic/com.lmc.publi.PUBLI_Inproceedings@117681e94b6_fff75c/FastErosion_PG07.pdf\n",
      "Trying http://www.omafra.gov.on.ca/english/engineer/facts/12-053.htm\n",
      "Trying https://en.wikipedia.org/wiki/Erosion_control\n",
      "Trying https://en.wikipedia.org/wiki/Sediment#Erosion_and_agricultural_sediment_delivery_to_rivers\n",
      "Trying https://www.jswconline.org/content/58/3/128\n",
      "Trying https://limo.libis.be/primo-explore/fulldisplay?docid=LIRIAS1093017&context=L&vid=Lirias&search_scope=Lirias&tab=default_tab&lang=en_US&fromSitemap=1\n",
      "Trying https://en.wikipedia.org/wiki/Baer%E2%80%93Babinet_law\n",
      "Trying https://link.springer.com/referenceworkentry/10.1007%2F3-540-31060-6_22\n",
      "Trying https://dot.ca.gov/programs/environmental-analysis\n",
      "Trying http://riparianhabitatrestoration.ca/575/bioengintro.htm\n",
      "Trying https://www.hatarilabs.com/ih-en/modeling-of-soil-erosion-with-landlab-in-python-free-software\n",
      "Trying https://landlab.github.io/#/\n",
      "Trying https://www.ncbi.nlm.nih.gov/pmc/articles/PMC5896951/\n",
      "Trying https://www.geosci-model-dev.net/12/1267/2019/gmd-12-1267-2019.pdf\n",
      "Trying https://github.com/badlands-model\n",
      "Trying https://www.researchgate.net/publication/235984970_Contour_Planting_A_Strategy_to_Reduce_Soil_Erosion_on_Steep_Slopes\n",
      "Trying https://extension.psu.edu/avoiding-soil-compaction\n",
      "Trying https://agris.fao.org/agris-search/search.do?recordID=PL880045588\n"
     ]
    }
   ],
   "source": [
    "import os\n",
    "import errno\n",
    "\n",
    "for url in urls:\n",
    "    print(\"Trying\", url)\n",
    "    html = requests.get(url)\n",
    "#     soup = BeautifulSoup(html.text, \"html.parser\")\n",
    "    text = text_from_html(html.text)\n",
    "    \n",
    "    site_n = safe_str(url)\n",
    "    \n",
    "    html_n = os.path.join(\"html\", site_n + \".html\")\n",
    "    text_n = os.path.join(\"text\", site_n + \".txt\")\n",
    "\n",
    "    # save html and text\n",
    "    def write_file(n, t):\n",
    "        if not os.path.exists(os.path.dirname(n)):\n",
    "            try:\n",
    "                os.makedirs(os.path.dirname(n))\n",
    "            except OSError as exc: # Guard against race condition\n",
    "                if exc.errno != errno.EEXIST:\n",
    "                    raise\n",
    "        with open(n, \"w\") as f:\n",
    "            f.write(t)\n",
    "            \n",
    "    write_file(html_n, html.text)\n",
    "    write_file(text_n, text)\n",
    "    \n",
    "    \n",
    "    "
   ]
  },
  {
   "cell_type": "code",
   "execution_count": 14,
   "metadata": {},
   "outputs": [],
   "source": [
    "\n",
    "#     pdfs = get_all_pdfs(html)\n",
    "#     if pdfs is not None:\n",
    "#         for pdf in pdfs:\n",
    "#             n = os.path.join(dir_n, safe_str(pdf))\n",
    "#             print(\"saving pdf to\", n)\n",
    "\n",
    "            \n",
    "# #             safepdfurl = urljoin(url,pdf)\n",
    "            \n",
    "#             r = requests.get(pdf, stream=True)\n",
    "\n",
    "#             if not os.path.exists(os.path.dirname(n)):\n",
    "#                 try:\n",
    "#                     os.makedirs(os.path.dirname(n))\n",
    "#                 except OSError as exc:\n",
    "#                     if exc.errno != errno.EEXIST:\n",
    "#                         raise\n",
    "\n",
    "#             with open(n, 'wb') as fd:\n",
    "#                 for chunk in r.iter_content(chunk_size):\n",
    "#                     fd.write(chunk)\n",
    "\n"
   ]
  },
  {
   "cell_type": "code",
   "execution_count": 16,
   "metadata": {},
   "outputs": [
    {
     "name": "stdout",
     "output_type": "stream",
     "text": [
      "text/httpswwwresearchgatenetpublication235984970ContourPlantingAStrategytoReduceSoilErosiononSteepSlopes.txt\n",
      "text/httpswwwhindawicomjournalstswj2014404059.txt\n",
      "text/httpswwwtandfonlinecomdoiabs1010800095896419879942736.txt\n",
      "text/httpslandlabgithubio.txt\n",
      "text/httpsagrisfaoorgagrissearchsearchdorecordIDPL880045588.txt\n",
      "text/httpswwwgeoscimodeldevnet1212672019gmd1212672019pdf.txt\n",
      "text/httpsextensionpsueduavoidingsoilcompaction.txt\n",
      "text/httpspdfssemanticscholarorg67b85eba8c7c2329303b3f6f53889f3d5dfa8e47pdf.txt\n",
      "text/httpslinkspringercomreferenceworkentry1010072F354031060622.txt\n",
      "text/httpslimolibisbeprimoexplorefulldisplaydocidLIRIAS1093017contextLvidLiriassearchscopeLiriastabdefaulttablangenUSfromSitemap1.txt\n",
      "text/httpswwwmdpicom2073444111102118.txt\n",
      "text/httpsenwikipediaorgwikiErosioncontrol.txt\n",
      "text/httpswwwncbinlmnihgovpmcarticlesPMC5896951.txt\n",
      "text/httpswwwaguorgEventsSCIWS8ExploringSurfaceProcesseshowtobuildcoupledmodels.txt\n",
      "text/httpsenwikipediaorgwikiBaerE28093Babinetlaw.txt\n",
      "text/httpriparianhabitatrestorationca575bioengintrohtm.txt\n",
      "text/httpsenwikipediaorgwikiSedimentErosionandagriculturalsedimentdeliverytorivers.txt\n",
      "text/httpsdotcagovprogramsenvironmentalanalysis.txt\n",
      "text/httpswwwjswconlineorgcontent583128.txt\n",
      "text/httpswwwhatarilabscomihenmodelingofsoilerosionwithlandlabinpythonfreesoftware.txt\n",
      "text/httpsgithubcombadlandsmodel.txt\n",
      "text/httpwwwomafragovoncaenglishengineerfacts12053htm.txt\n",
      "text/httpwwwljkimagfrPublicationsBasiliccomlmcpubliPUBLIInproceedings117681e94b6fff75cFastErosionPG07pdf.txt\n",
      "23\n",
      "('text/httpswwwresearchgatenetpublication235984970ContourPlantingAStrategytoReduceSoilErosiononSteepSlopes.txt', 'The ann model was  trained to navigate a tractor over sloping terrain along a predetermined path with an average lateral d ev iation of 0.005 m.  though the model was not applicable for all field and soil conditions, t he results indicated  that ann s are capable of  accurately c ontrol ling the motion of a tractor under variable slope conditions.    As the ground water resources of the dodoma area are unsufficiently known and permanent water for domestic purposes and watering of stock is scarce it is recommended not to discontinue the construction of surface water reservoirs but each project should include a prognosis of expected rate of sedimentation and a plan for soil and water conservation measures in the catchment. Nt   using the measurement s from the field study, we c alculat ed that only 1.2 ha of c ontour furrow, or two passes with 3.7 m wide deep furrow drill, would be required  to capture the runoff from a hypothetical 60 - ha contributing area resulting from a 100 - yr, 24 - h storm producing 64 mm  (2.5 in) of rainfall ( table  1 ). Our results dem onsrate that a stri p of deep - furrow seeding precisel y contoured on the upper shoulder slope should provide sufficient detention storage to capture and hold the runoff from a 100 - yr 24 - h storm if the contour strip area was approximately 2% of the runoff collection area. Early stand establishment is an important and sowing date effects on straw and grain yield, and grain yield factor for increasing grain yield, and it is strongly influ- components of winter wheat cultivars with semidwarf, standard height, enced by seed-zone water content and depth of soil or tall growth habit.', \"  We use cookies to make interactions with our website easy and meaningful, to better understand the use of our services, and to tailor advertising. For further information, including about cookie settings, please read our Cookie Policy . By continuing to use this site, you consent to the use of cookies. Got it We value your privacy We use cookies to offer you a better experience, personalize content, tailor advertising, provide social media features, and better understand the use of our services. To learn more or modify/prevent the use of cookies, see our Cookie Policy and Privacy Policy . Accept Cookies top See all › 15 References See all › 3 Figures Download citation Share Facebook Twitter LinkedIn Reddit Download full-text PDF Contour Planting: A Strategy to Reduce Soil Erosion on Steep Slopes Conference Paper (PDF Available) ·\\xa0July 2010  with 919 Reads How we measure 'reads' A 'read' is counted each time someone views a publication summary (such as the title, abstract, and list of authors), clicks on a figure, or views or downloads the full-text. Learn more  Conference: International Conference on Precision Agriculture Cite this publication  Dan Long 29.18 United States Department of Agriculture  S. B. Wuest + 1  John Dana Williams 23.9 United States Department of Agriculture  Randall Rauwendaal Apple Inc. Show more authors Hide Abstract Practices that combine GPS-based guidance for terrain contouring and tillage for runoff detention have potential to increase water infiltration and reduce runoff. The objective of this study was to investigate contour planting as a means to reduce soil erosion on steep slopes of the Columbia Plateau dryland wheat region. An exploratory field study was conducted on a Ritzville silt loam (coarsesilty, mixed, superactive, mesic Calcidic Haploxerolls) and 0-20 percent slopes. Planting was performed with a deep furrow drill on the contour to a depth of 20 cm. Our results demonsrate that a strip of deep-furrow seeding precisely contoured on the upper shoulder slope should provide sufficient detention storage to capture and hold the runoff from a 100-yr 24-h storm if the contour strip area was approximately 2 % of the runoff collection area. This research also examined artificial neural networks for generating routing maps that optimize seeding on precise, GPS-guided contours. A contouring algorithm was evaluated in which the direction of a tractor is determined by contour-based neural activity whereby neurons corresponding to regions of the terrain of similar height to that of the tractor’s current position receive the greatest excitatory input. The contour region, therefore, has the global effect of influencing the whole state space to attract the tractor in the right direction. Keywords: contour planting, soil erosion, artificial neural networks Discover the world's research 17+ million members 135+ million publications 700k+ research projects Join for free  Figures - uploaded by Randall Rauwendaal Author content All content in this area was uploaded by Randall Rauwendaal Content may be subject to copyright.  Structure of a simple artificial neural network model consisting of multiple inputs (x 1 , x 2 , x 3 , …….x n ), corresponding weights (w 1 , w 2 , w 3 , …..w n ), one neuron, non-linear transfer function, and single output. …  . Rainfall by return period for 24-hr and 6-hr storms for foothills of Blue Mountains near Echo, Oregon, and the area and number of passes of 3.7-m wide, deep furrow drill required for hypothetical circular 60 ha (148 ac) contributing area. …  Digital elevation model consisting of triangulated points. … Advertisement Content uploaded by Randall Rauwendaal Author content All content in this area was uploaded by Randall Rauwendaal Content may be subject to copyright. Download full-text PDF         CONTOUR PLANTING: A STRATEGY TO REDUCE SOIL EROSION ON STEEP SLOPES   D.S. Long, S.B. Wuest, and J.D. Williams  Columbia Plateau Conservation Research Center USDA - ARS  Pendleton, Oregon  R. Rauwendaal and M.J. Bailey  School of Electrical Engineering and Computer Science Oregon State University Corvallis, Oregon  ABSTRACT    Practices that comb ine GPS - based guidance for terrain contouring and til lage for  runoff detention have potential to increase water infiltration and reduce runoff.  The obj ective o f this study was to investigate contour planting as a means to reduce soil erosion on steep slopes  of the Columbia Plateau dryland wheat region . An exploratory field study w as  conducted on a Ritzville silt loam (coarse - silty, mixed, su peractive, mesic Cal cidic Haploxerolls) and 0 - 20 percent slopes.  Planting was performed with a deep furrow drill on the contour to a depth of 20 cm.   Our results dem onsrate that a stri p of deep - furrow seeding precisel y contoured on the upper shoulder slope should provide sufficient detention storage to capture and hold the runoff from a 100 - yr 24 - h storm if the contour strip area was approximately 2% of the runoff collection area. This research also examined artificial neural networks for generating routing maps that optimiz e seeding on precise, GPS - guided contours.  A contouring algorithm was evaluated in which the direction of a tractor is determined by contour - based neur al activity wh ereby neurons corresponding to regions of the terrain of similar height to that of the tra ctor’s current position receive the greatest excitatory input.   The contour region, therefore, has the global effect of influencing the whole state space to attract the tractor in the righ t direction.    Keywords:     contour planting, soil erosion, arti ficial neural networks     INTRODUCTION    Silt loam soils formed on steep slopes in loess parent material occupy approximately 3.7 million ha of the dryland agricultural region in the Pacific Northwest ( Schillinger and Papendick, 2008 ). Erosion by w at er has been a major         conservation problem of these soils since cultivation of wheat began in the late 19 th  century (Shepherd, 1985).  These soils are at risk of degradation under the existing summer fallow manage ment that revolves around multiple tillage  operations.  Conservation mana gement practices are n eeded to reduce soil erosion and maintain the biological sustainability of dryland wheat production. Typically , growers use tillage to create a dust mulch to reduce soil water evaporation and conserve seed zone moisture over the dry summer months ( Schillinger and Papendick, 2008 ).  However, the intensive tillage that is req uired decreases the amount of protective crop residue and makes the soil highly susceptible to erosion by wind and water ( Sharratt an d Feng, 2009 ). C hemical fallow and no - till are proven to maximize cover and conserve soil ( Williams et al. 2009, 2010; Singh et al., 2009), but are not widely adopted in this region, particularly wher e rainfall is <305- mm  and s eed zone moisture is often inadequate for early planting of winter wheat (Schillinger and Young, 2004 ). D elaying planting until rain in  late fall reduces wheat yields by up to 25% (Donaldson et al., 2001). In addition , farm fields comprise large (<65 ha), rectangular tracts on  com plex slopes in steep rolling hills. P ulling a drill back and forth , f rom one end of the field to the other  in  a series of parall el swaths , is the most efficient way to seed a field .  However, seeding in this manner ignores topographic variation an d cause s water to flow in off - contour furrows, concentrate, and form rills , especially  when furrows overtop with water (Frazier  et al. , 1983 ). We have observed that  severe rill erosion is the result of overland flow of water from plateaus t hat are situated above the steeper slopes.  If this runoff could be contained on the plateau and prevented from becoming concentrated flow on steep slopes, much of the rill erosion could be prevented. Contour farming is defined as “using ridges and furrows formed by tillage, p lanting, and other farming operations to change the direction of runoff from directly down slope to around the hill slope” (USDA - NRCS, 2007).  Global positioning  receivers  and computer - based gui dance systems  are capable of automatically steering tractors p recisely on curv ed paths  and might be used for steer ing  on precise elevation contours  as well .  Planting on precise contours has the potential for preventing the flow of water on soil thereby controlling erosion, reducing stream sedi mentation, and i ncreasi ng water infiltration.  Tillage practices ar e needed that effect ively conserve soi l and water while  maintaining economic returns  in conventional summer fallow fields of the Pacific Northwest . In this study, the goal was to develop an approved method for seeding winter wheat on precise contours to prevent water erosion. S pecific  objectives included : (1) assess  potential  of  contour  pl anting  for capturing water and preventing runoff on steep slopes, and (2) examine artifi cial neural networks for generating routing maps that optimize seeding on precise contours.    MATERIALS AND METHODS   A field study was conducted in a farm field near Echo, Oregon on and above the shoulder position of a 30% hill  slo pe.  The climate is se miarid with       average annual precipi ta tion of 280 mm (11 - in) with most falling October throug h March.  Soils are derived from loess parent mat erial and are classi fied as Ritzville silt loam ( coarse silty, mixed , superactive, mesic  Calcidic Haploxerolls).  The field has been in a summ er fallow - winter wheat rotation where the primary tillage consists of disking or chiseling, followed by cultivation and rodweeding operations.  The stud y was conducted in the fallow phase of the rotation. A self - leveling laser l evel was positioned on the slope.  As the level was panned from side to side, the beam position was marked on the ground by means of small flags as needed to delineate a contour line.  A skilled human operator then guided a tractor wit h a deep furrow drill ( 10 openers spaced 35.6 cm apart, 3.7- m total widt h) along the visible, predetermined contour.  A furrow i s 20 - cm (8 - in) deep , 35.6- cm (14 - in) wide , and 200- m long . Water (7.24 m 3 , 1  911- gal) was applied into one of the furrows through a hose connected to a portable 4 000- gal water t ank .  M easurements i ncluded flow rate, time to drain the tank, and area of st anding water in furrow s . We a pplied a depth equivalent of 57 - mm (2.22 in) in 1.6 h that was captured and infiltrated into an area of 128 m 2  (0.03 ac).  Calculations included water holdi ng capaci ty of furrows on precise contours, and predicted volume of runoff during a storm from a hypothetical 60 ha (148 ac) cir cular,  contributing area.  Previous work conducted nearby on the upland plateau (<5% slope) has shown that under the poorest of soil conditions (inversion tillage, unfertilized, crop residue burned) , the ratio of runoff to storm precipitation (Q/P) equals 0.16 (Williams, 2004). Thus, w e were able to calculat e the area need ed to capture run off from desi gn storms based on precipitation return periods ( USDC - NOAA, 1973) and the approximate number of passes required with a 3.7 m wide deep furrow drill.     RESULTS AND DISCUSSION   Runoff Capture Assessme nt   Using the measurement s from the field study, we c alculat ed that only 1.2 ha of c ontour furrow, or two passes with 3.7 m wide deep furrow drill, would be required  to capture the runoff from a hypothetical 60 - ha contributing area resulting from a 100 - yr, 24 - h storm producing 64 mm  (2.5 in) of rainfall ( Table  1 ). Similarly, t he portion of contoured land is 0.69 ha, or one pass with the same drill , to protect against a 100 - yr, 6 - hr storm having 38 mm of rainfall. In practice, a producer need only calculate the area of non- dissected plateau from w hich runoff needs to be captured, and border it with contour furrows.  For example, an area of 50 ha (124 ac) will require 1 ha (2.5 ac) of surrounding contour  furrow. Assuming that the contributing area is a circle to calcula te distance, a minimum of two passes with a 3.7 - m wide drill will meet this need.  However, the contributing area is unlikel y to be a circle. Manual and autom atic m ethods for routing a tractor along an elevation contour are described in the following sections of this paper.        Table 1.  Rainfall by return period for 24 - hr a nd 6 - hr storms for foothills of Blue Mountains near Echo, Oregon, and the area and number of passes of 3.7 - m wide , deep furrow drill  required for hypothetical circular 60 h a (148 ac) contributing area.  Return Period Rainfall  Area  Number of Passes  yr  mm  ha  24- hr Storms  100 64 1.20 2 50 56 1.04 2 25 53 0.99 1 10 43 0.79 1 5 38 0.69 1 2 30 0.55 1     6- hr Storms  100 38 0.69 1 50 36 0.64 1 25 30 0.55 1 10 28 0.50 1 5 24 0.43 1 2 19 0.33 1   Manual Routing  Along Elevation Contours   An elevatio n contour line for routing a tr actor can be manuall y constructed by rotating a laser beam in a horizontal plane from a single point as per this study . Using the visible beam, the line c an b e marked with ground flags at precisel y positioned points thereby forming a horizontal path. A t ractor operator c an then follow the correct path to remain on contour.  Another way to steer on an elevation contour would be to survey the field to get a  digital elevat ion m odel (DEM) , use software to display where you are on the DEM, and then drive parallel to the elevation contour line of choice. Several  highly accurat e methods are available for producing a DEM including kinematic GPS survey, soft copy photogrammetry , and light distance and rang ing (LI DAR). Kine matic sur vey involves collecting elevation measurements along a series of parallel transects and fol lowed by interpo lating these data to a regular s quare estimation grid , or DEM . A limitation is the large amount of time that is necessary to cover fields on multipl e transects while obtaining elevation meas urements.  The latt er two methods ar e rapid and accu rate, but are disadvantaged by high cost. A utosteer systems use a steering actuator for steering s teerable wheels in  response to a steering controller.  The c ontroller receives inpu t from a steering angle sensor measurin g the angular positio n of the steerable wheels and a tractor position generating unit (GPS receiver) generating actual position data.  The       controller compares the actual position with the desired position and generates a steering control signal instruc ting the steering actuator to ste er the wheels in the correct direction. Today’s systems guide tractors along straight and curved paths relative to a base line  establ ished relative to a visible re ference such as a field boundary. The operator begins by inputting a starting point, driving along the boundary , and inputting the end point of the base line.  Elevation contours are invisible and thus would need to be delineated manually. W hen recorded into the memory of an autosteer system; ho wever , the same curved path could be used again in each following year.  Automatic Routing Using Artificia l Neural Network s   Currently, no autosteer system can be instructed t o steer along a n elev ation  contour in  a manner similar to how an autopilot is set to hold an aircraft at a certain altitude . Otherwise , manual  routing methods would not be ne cessary . Artificial neural networks (ANN s) are computational models that mi mic the neural structure of the human brai n (Zou et al., 2008). A neuron receives one or more inputs and sums them to produce an output (Fig.  1 ). Neuron behavior depends upon the weight on the connections between the inputs and the neuron and the specification of the non - linear tr ansfer function  adjusting the total input into an output. Mathematically, the output y  fr om a neuron can be described with a summing function: x w y j n j j ∑ = = 0 ϕ           [Eq. 1]  where ϕ is a transfer function and multiple inputs ( x 1 , x 2 , x 3 ,……x n ) are weighted by th e w ei ghts ( w 1 , w 2 , w 3 ,………w n ).  Artificial NN models have been  successfully applied to object recognition and obstacle avoidance by robots (Yang and Meng, 2000) and thus are directly applicable to tractor autosteer systems as well.   ANN Simulation   In this study, we developed an ANN model to simulate movement of a tractor in a 2 - D environment along elevation contours.  A discrete 2- D surface of  a DEM forms the structure for the ANN (Fig. 2).  L ateral co nnections between  neurons becom e adjacent connections to neighboring cells .  A complete cov erage path was implemented based on the dynamic activity landscape of the neural network and the previous tractor location, such that all areas of the field were covered with no overlap .  Th is model is capable of planning real - time complete  coverage paths with obstacle avoidance in an unstructured environment. The term “real - time” denotes that the coverage path planner  responds immediately to the dynamic environment including the tractor , uncovered areas, and field edges .                         Figure 1. S tructure of a s impl e artificial neural network model consisting of multiple inputs ( x 1 , x 2 , x 3 , …….x n ), corresponding weights (w 1 , w 2 , w 3 , …..w n ), one neuron, non-linear transfer function, and single output.        Figu re 2. Digital elevati on model consisting of triangulated points.          Non Linear Transfer Function  Output x 1  x 2  x 3  x n  Σ  Input w 1  w 2  w 3  w n        T he location of the ith  neuron uniquely represents an area within  the DEM and thus has local lateral connections to its neighboring neurons.  The neuron responds only to the stimulu s within its receptive field.  The dynamics of th is neuron in the ANN can be characteriz ed by a shunting equation:  (  )  ( )  (  )  ( ) t I x D t E x B Ax dt dx i i i i i i + − − + = −       [Eq. 2]  w here S  is the unique s tat e s pace of the DEM, A  represent s the passive de cay rate of neural activity, which solely determines the transient response to an input signal.  Func tions E i  and I i  represent the excitatory and inhibitory inputs to  the ANN model specified by  Equation 2.  Neurons corresponding to regions of the DEM of similar elevati on receive the gr eat est excitatory input and attract the tractor the most whereas neurons corresponding to edges of the DEM and previously covered areas repel th e tractor (Fig. 3 ) .  Once a contour line has been covered by the tract or , neural activity is no longer generate d th ereby causing t he tractor to seek new contours and shifting the network ’ s excitatory input to match the tractor ’s  elevat ion i n the field.  This ANN simulation , which re lie s  upon elevation as the primary input , is an oversimplification of a complex problem - that of guiding a tractor along a contour line  on hills .  In reality, an ANN model must consider the lateral forces at the wheels, mass of t he tractor and its towed implement, inertia, and center of gravity (Zhu et al., 2005).                    Figu re 3. Contour-based neural activit y with all neurons corresponding to regions of the terrain of similar he ight to that of the tractor’s curre nt position receive greatest excitat ory input.           Prototype ANN Syste m s   Artificial NN models have been devised that incorporate the downward slip of a tractor due to gravity, slope, and soils.  Torisu et al. (2002) propose d an ANN model for automatic control of tractor travel along elevation contours based on steering angle, rate of steering, vehicle heading, vehic le speed along X and Y coordinate axes, and yaw vel ocit y.  T ractor position and altitude were determined using a total station that triangulated the rectangular coordinates of surveyed points relative to the total sta tion position.  A wirele ss modem was us ed to transmit the position signals from the total station to a c entral processing unit on  the tractor.  An electrical mot or was used as a s teering actu ator, a potentio meter to measure steering angle, and a fiber optic gyroscope to measure vehicle heading.  A limitation was that real - time navigation was only possible at one specific slope angle.  Later, Ashraf et al. (2003) trained the ANN model (Torisu et al., 2002) along contour lines at inclinations of 0, 5, 11, and 15º and determine d optimal steering angles for each angle.  A third - order p olynomial  equation was approximated for the relationship between steeri ng angle and slope an gle .  The coefficients of the equation were entered into a look - up table so that optimal steering values could be computed for  any inclination using sensed values of slope and vehicle attitude.  Using this strategy, a tractor could b e navigated wit hin 0.05 m of predetermined rectilinear path. In addition, Zhu et al. (2005 ) further improved the ANN model formulated by Torisu et al. (2002) by incorporated incline information so that it could be used with varying gradients - not just a single uniform gradient.  The ANN model was  trained to navigate a tractor over sloping terrain along a predetermined path with an average lateral d ev iation of 0.005 m.  Though the model was not applicable for all field and soil conditions, t he results indicated  that ANN s are capable of  accurately c ontrol ling the motion of a tractor under variable slope conditions.   SUMMARY AND CONCLUSIONS   Further r esearch is need ed to evaluate the effect iveness of precision contouring with a deep furrow drill in providing resistance to water erosion.  Our study indicates that this method might be an effectiv e conservation practice with only small changes i n the farm er’s current practice of seeding up and down slopes.  To date, precision contouring cannot be easily implem ented because an autosteer system is not in place for guiding tractors along elevation contours. A rtificial NN model s that accommodate multiple inpu ts are potentially useful for automatically controlling th e steerable wheels of tractors and adjusting for downward slippage on sloping land. R esearch  and development are  needed to address the possibility of autonomous travel along invisible, indeterminat e elevation contours for soil conservation purposes.          REFERENCES   Ashraf, M.A., J. Takeda, H. Osada, and S. Chiba. 2003. Generalized steering strategy for vehicle navigation on sloping ground. Biosystems Eng. 86:267-273.   Donaldson, E., W.F. Schillinger, and S.M. Dofing. 2001. Straw production and grain yield relationships in winter wheat. Crop Sci. 41:100-106.  Frazier, B.F., D.K. McCool, and C.F. Engle. 1983. Soil erosion in the Palouse: An aerial perspective. J . S oil Water Cons erv . 38(2):70-74.  T orisu, R., S. Hai, J. Takeda, M.A. Ashraf. 2002. Automatic tractor guidance on sloped terrain (Part 1), formulation of neural network vehicle model and design of control law for contour line travel. J . Jpn. Soc. Agric . M ach. 64:88-95.  Schillinger, W. F., and R. I. Papendick. 2008. Then and now: 125 years of dryland wheat farming in the Inland Pacific Northwest. Agron. J. 100(suppl.):S166-S182.  Schillinger, W. F., and D. L. Young. 2004. Cropping systems research in the world’s driest rainfed wheat region. Agron. J. 96:1182-1187.  Singh. 2009. Winter hydrologic and erosion processes in the US Palouse Region: Field experimentation and WEPP simulation. Vadose Zone J. 8:426-436. Sharratt, B.S., and G.Feng. 2009. Windblown dust influenced by conventional and und ercutter tillage within the Colu mbia Plateau, USA. Ear th Surf . Processes Landforms 34:1323-1332.  Shepherd , J.F. 1985. Soil c onservation in the Pacific Northwest w heat -producing a reas: Conservation in a h illy t errain . Agricultural h istory , The history of soil and w ater conservation: A symposium. 59(2):229-245.  United States Department of Agriculture, Natural Resources Conservation Service. 2007. Conservation practice standard, contour farming. Code 330. Available at ftp://ftp -fc.sc.egov.usda.gov/NHQ/pract ice - standards/standards/330.pdf (verified 15 April 2010).  United States Department of Commer ce, N ational  O ceanic  Atmospheric A dministration.  1973. Atlas 2, Vol. 10.  Precipitation f requency a tlas o f the w estern U.S. , Oregon.  Government Printing Office. Wa shington, DC.  Williams, J.D. 2004 Effects of long - term winter wheat, summer fallow residue  and nutrient management on field hydrology for a silt loam in north- central Oregon. Soil Tillage Res . 75(2):109-119.        Williams, J.D., H.T. Gollany, M.C. Siemens, S.B. Wuest, and D.S. Long. 2009. Comparison of runoff, soil erosion, and winter wheat yields from no - till and inversion tillage production systems in northeastern Oregon. J . Soil Water Conserv . 64(1):42-53.  Williams, J.D., S. Dun, D.S. Robertson, J.Q. Wu, E. Brooks, D.C. Flanagan, and D.K. McCool. 2010. WEPP Simulations of Runoff Events from Small Drainages on the Northeastern Oregon.  J . S oil Water Conserv . 65(1):22- 33.  Yang, S.X., and M. Meng. 2000. An efficient neural network approach to dynamic robot motion planning. Neural Networks 13:143-148.  Zhu, Z.X., R. Torisu, J.I. Takeda, e.R. mao, and Q. Zhang. 2005. Neural network for estimating vehicle behavior on sloping terrain. Biosystems Eng . 91:403-411.  Zou, J., Y. Han., and S. Sung - Sau. 2008. Overview of artificial neural networks. Methods Mol. Biol. 458:15-23.     Citations (0) References (15) ResearchGate has not been able to resolve any citations for this publication. Soil conservation in the Pacific Northwest wheat-producing areas: conservation in a hilly terrain. Article Jan 1985 AGR HIST J.F. Shepherd Outlines the nature and extent of soil erosion in the US Pacific Northwest and practices to control it. Many farmers do not participate in conservation measures, believing that costs outweigh the benefits. -C.Wilson View Show abstract Soil erosion in the Palouse: an aerial perspective. Article Jan 1983 B.E. Frazier D.K. McCool C.F. Engle Air photographs taken from 300m height and with a hand-held 35mm camera provide an excellent facility for studying the spatial relationships between cultivation and erosion patterns developed on the younger loess soils in the Palouse region. Distinct accelerated rill erosion patterns can be related to slope shape, aspect, types of agricultural practice etc. but no photographable patterns occur on ridge crests, isolated eroded knobs where palaeosol 'B' horizons of the older loess emerge at ground level. Melting from snow drift is a concentrated source of water that produces finely dissected rill patterns especially when melting occurs on thawing soil. It is estimated that erosion rates could be reduced by some 40-60% without adversely affecting farm incomes by using well known conservation measures. -R.H.Johnson View Show abstract Cropping Systems Research in the World's Driest Rainfed Wheat Region Article Full-text available Jul 2004 Agron J  William F. Schillinger  Douglas L. Young Winter wheat (Triticum aestivum L.)-summer fallow (WW-SF) is the predominant cropping system in the 120 000-ha Horse Heaven Hills (HHH) region in south-central Washington, USA. Blowing dust from residue- and roughness-deficient SF results in soil loss and causes health problems. Annual no-till cropping to replace SF would provide year-round protection against wind erosion. A 6-yr field study was conducted from 1996 to 2002 to evaluate the agronomic and economic feasibility of continuous annual no-till hard red spring wheat (HRSW) as an alternative to traditional WW-SF. Long-term average annual precipitation at the experiment site is 152 mm, which we believe is the lowest for any nonirrigated wheat region of the world. Annual precipitation during the study ranged from 111 to 240 mm and averaged 153 mm, with two wet years followed by a 4-yr drought. Russian thistle (Salsola iberica Sennen and Pau) heavily infested HRSW plots and depleted soil water during the two wet years. Seed-zone water content in SF was sufficient to plant WW in late August in only 2 of 6 yr. Mean (6-yr) grain yield was 1190 kg ha-1 for WW-SF (one crop every 2 yr) and 530 kg ha-1 for annual no-till HRSW. The number of kernels per spike had a significant contribution to yield during years of acute water stress. Net economic returns for annual HRSW lagged WW-SF by an average $95 ha-1 yr-1. Although continuous annual no-till cropping has clear environmental advantages, it is not economically competitive with WW-SF with current technology in the HHH. View Show abstract Generalised Steering Strategy for Vehicle Navigation on Sloping Ground Article Nov 2003 BIOSYST ENG  Md. Ali Ashraf  Jun-ichi Takeda Hirotaka Osada S. Chiba An autonomous tractor guidance system for vehicle navigation on sloping ground was developed by extending a previous study in which navigation was limited to a specific gradient. A previously developed neural network vehicle model was trained along the contour lines of 0, 5, 11 and 15° sloping terrain. Using the trained models and a cost function, optimal steering angles for different ranges of deviations were sought by genetic algorithm and the optimal values were arranged in separate matrix-form reference table for each slope. The optimal steering values of the four reference tables were expressed by a third-order polynomial equation so that the equation can provide an optimal steering value for any inclination. The coefficients of the equations were tabulated in a matrix form, which is designated as a ‘general reference table’. If the slope inclination and vehicle attitude can be determined, real-time navigation of the tractor is possible using this table. An autonomous travel test was conducted on inclined surface. It was found that the developed guidance system could precisely navigate the tractor along a rectilinear contour path on 20° sloping terrain, where the mean offset was 0·05m and its standard deviation was 0·044m. View Show abstract Straw Production and Grain Yield Relationships in Winter Wheat Article Full-text available Jan 2001 Crop Sci Edwin Donaldson  William F. Schillinger Stephen M. Dofing use of traditional intensive tillage practices during fallow (Papendick, 1998). During most years, use of summer Winter wheat (Triticum aestivum L.) -fallow is the predominant fallow allows growers to sow winter wheat into adequate cropping system in low-precipitation regions (,250 mm annually) of the inland Pacific Northwest (PNW) in the USA. Wind erosion is a carryover soil water for seed germination during mid- recurrent problem during and after fallow periods when inadequate to-late August. Sowing must sometimes be delayed due crop residue amounts are retained on the soil surface. Management to insufficient seed-zone soil water (Schillinger et al., options that optimize both grain yield and straw production are 1998), or the need to control winter annual grass weeds needed. A 3-yr field study was conducted to determine sowing rate (Ogg, 1993). Early stand establishment is an important and sowing date effects on straw and grain yield, and grain yield factor for increasing grain yield, and it is strongly influ- components of winter wheat cultivars with semidwarf, standard height, enced by seed-zone water content and depth of soil or tall growth habit. Four winter wheat cultivars were evaluated at covering the seed (Lindstrom et al., 1976). Because of three sowing rates (65, 130, and 195 seeds m2 2 ) and three sowing frequent dry seed-zone conditions and the need for dates in August, September, and October. A split plot design was seedlings to emerge from deep sowing depths, tall and View Show abstract Windblown dust influenced by conventional and undercutter tillage within the Columbia Plateau, USA Article Full-text available Aug 2009  B. Sharratt  G. Feng Exceedance of the US Environmental Protection Agency national ambient air quality standard for PM10 (particulate matter ≤10 µm in aerodynamic diameter) within the Columbia Plateau region of the Pacific Northwest US is largely caused by wind erosion of agricultural lands managed in a winter wheat–summer fallow rotation. Land management practices, therefore, are sought that will reduce erosion and PM10 emissions during the summer fallow phase of the rotation. Horizontal soil flux and PM10 concentrations above adjacent field plots (>2 ha), with plots subject to conventional or undercutter tillage during summer fallow, were measured using creep and saltation/suspension collectors and PM10 samplers installed at various heights above the soil surface. After wheat harvest in 2004 and 2005, the plots were either disked (conventional) or undercut with wide sweeps (undercutter) the following spring and then periodically rodweeded prior to sowing wheat in late summer. Soil erosion from the fallow plots was measured during six sampling periods over two years; erosion or PM10 loss was not observed during two periods due to the presence of a crust on the soil surface. For the remaining sampling periods, total surface soil loss from conventional and undercutter tillage ranged from 3 to 40 g m–2 and 1 to 27 g m–2 while PM10 loss from conventional and undercutter tillage ranged from 0·2 to 5·0 g m–2 and 0·1 to 3·3 g m–2, respectively. Undercutter tillage resulted in a 15% to 65% reduction in soil loss and 30% to 70% reduction in PM10 loss as compared with conventional tillage at our field sites. Therefore, based on our results at two sites over two years, undercutter tillage appears to be an effective management practice to reduce dust emissions from agricultural land subject to a winter wheat–summer fallow rotation within the Columbia Plateau. Copyright © 2009 John Wiley & Sons, Ltd. View Show abstract Neural Network for estimating Vehicle Behaviour on Sloping Terrain Article Aug 2005 BIOSYST ENG Z.-X. Zhu R. Torisu  Jun-ichi Takeda  Quanyi Zhang This paper presents formulation of a neural network (NN) vehicle model for estimating vehicle behaviour on sloping terrain. Lemniscate of Bernoulli courses were employed to acquire training pairs. A training method combined with genetic algorithm and back propagation algorithm was used to train the NN vehicle model. The model was validated by comparing the simulated results with the experimental ones. The open-loop characteristics of vehicle motion on sloping terrain were also investigated. A fuzzy logic controller based on the constructed NN vehicle model guided the tractor along a pre-determined path successfully with mean and standard lateral deviation of 0·005 m and 0·067 m, respectively. The results indicated that the NN vehicle model was qualified to represent the input–output relationship of the vehicle motion for autonomous navigation on sloping terrain. View Show abstract An efficient neural network approach to dynamic robot motion planning Article Apr 2000 NEURAL NETWORKS  Simon X. Yang Max Meng In this paper, a biologically inspired neural network approach to real-time collision-free motion planning of mobile robots or robot manipulators in a nonstationary environment is proposed. Each neuron in the topologically organized neural network has only local connections, whose neural dynamics is characterized by a shunting equation. Thus the computational complexity linearly depends on the neural network size. The real-time robot motion is planned through the dynamic activity landscape of the neural network without any prior knowledge of the dynamic environment, without explicitly searching over the free workspace or the collision paths, and without any learning procedures. Therefore it is computationally efficient. The global stability of the neural network is guaranteed by qualitative analysis and the Lyapunov stability theory. The effectiveness and efficiency of the proposed approach are demonstrated through simulation studies. View Show abstract Then and Now: 125 Years of Dryland Wheat Farming in the Inland Pacific Northwest Article Full-text available May 2008 Agron J  William F. Schillinger R. I. Papendick This article is a history of dryland wheat (Triticum aestivum L.) farming in the low-precipitation (<300 mm annual) region on the Columbia Plateau of the Inland Pacific Northwest (PNW) of the United States. Numerous technological advances, environmental problems, and sociological factors influenced wheat farming since its inception in 1880. The wheat-based economy traces back to the pioneers who faced many challenges that included scarcity of water and wood, unprecedented wind erosion, drought, and minimal equipment. Throughout the years, major technological breakthroughs include: (i) horse (Equus caballus) farming to crude crawler tractors to the 350+ horse power tractors of today, (ii) transition from sacked grain to bulk grain handling, (iii) nitrogen fertilizer and herbicides, (iv) the rotary rodweeder, and (v) the deep furrow split-packer drill to allow early planting of winter wheat into stored soil water. Cultural practices have evolved from repeated passes with high-soil-disturbance tillage implements to today's conservation tillage management. The 2-yr winter wheat–summer fallow rotation continues as the dominant cropping system as it is less risky and more profitable than alternative systems tested so far. Improved wheat cultivars for deep furrow planting continue to be developed with good emergence, disease resistance, winter hardiness, grain quality, and other values. In the past 125 yr, average farm size has grown from 65 to 1400 ha and wheat grain yield increased from <1.0 to 3.4 Mg ha-1. Since the 1930s, government farm programs have provided unwavering support that, in the last several decades, accounts for about 40% of gross farm income. View Show abstract Overview of Artificial Neural Networks Article Jan 2009 Meth Mol Biol Jinming Zou Yi Han Sung-Sau So The artificial neural network (ANN), or simply neural network, is a machine learning method evolved from the idea of simulating the human brain. The data explosion in modern drug discovery research requires sophisticated analysis methods to uncover the hidden causal relationships between single or multiple responses and a large set of properties. The ANN is one of many versatile tools to meet the demand in drug discovery modeling. Compared to a traditional regression approach, the ANN is capable of modeling complex nonlinear relationships. The ANN also has excellent fault tolerance and is fast and highly scalable with parallel processing. This chapter introduces the background of ANN development and outlines the basic concepts crucially important for understanding more sophisticated ANN. Several commonly used learning methods and network setups are discussed briefly at the end of the chapter. View Show abstract Show more Join ResearchGate to find the people and research you need to help your work. 17+ million members 135+ million publications 700k+ research projects Join for free Recommended publications Article Full-text available Evaluation of compost blankets for erosion control and runoff water quality on a constructed hillslo... January 2014 · Transactions of the ASABE (American Society of Agricultural and Biological Engineers)  Vijayasatya N. Chaganti David M. Crohn Compost blankets are useful for reducing sediment exports from soils cleared and compacted by construction activity, but their effectiveness as a water quality measure has not been evaluated for semi-Arid conditions. This field study evaluated greenwaste and biosolids fine (<9.5 mm) compost blankets for their effectiveness in curbing soil erosion and maintaining runoff water quality following ... [Show full abstract] three consecutive natural rain storms on a 3:1 constructed hillslope in southern California. Both runoff concentration and mass losses for sediments, total dissolved solids (TDS), total suspended solids (TSS), turbidity, nutrient exports, and metal exports through runoff were evaluated for each of the three storms. Cumulative totals across all three storms were also calculated. A nonparametric Kaplan-Meier approach was adapted to deal with nondetects observed in trace metal analysis in order to calculate the cumulative metal losses. Composts significantly reduced runoff and associated sediment loads compared to untreated controls. Mean runoff was 77% and 92% less for greenwaste and biosolids compost, respectively, relative to the control. Respective TSS exports were 88.5% and 97% less. TDS losses were 81% less from biosolids, but greenwaste did not differ significantly from the control. Biosolids contributed more NH4+-N and suspended P but less dissolved P than the other treatments. Dissolved trace metals were seldom detected in runoff, except for Cu and Zn, but detected losses were greatest from the controls. Greenwaste compost released the smallest amounts of suspended metals. Fine-textured greenwaste and biosolids composts are effective for erosion control under semi-Arid conditions. © 2014 American Society of Agricultural and Biological Engineers. View full-text Conference Paper Winter Runoff and Erosion on Northwestern USA Cropland January 2006 · International Journal of Sediment Research  Donald Mccool K.E. Saxton P. K. Kalita Much of the total annual runoff and soil loss from non-irrigated cropland in the\\nNorthwestern Wheat and Range Region of the Pacific Northwest U.S.A. occurs as a result of\\nrain and snowmelt on frozen and thawing soil. Quantifying the effects of these winter processes\\nand their interaction with crop management is important for hydrologic model development and\\ncalibration, and for designing cropping ... [Show full abstract] systems to prevent erosion. An experiment with several\\nrunoff plots under a number of crop management systems was installed at the Palouse\\nConservation Field Station near Pullman, WA in the fall of 1978. Data was collected from\\nnatural events on the replicated treatments for 13 years, and from a smaller set of replicated\\ntreatments for another five years. Frost, thaw, and snow depths were measured regularly.\\nRunoff and sediment samples were obtained from collection tanks on a daily or event basis.\\nThis 18-year data set was supplemented with a 43-year data set obtained from monitoring\\nwinter erosion on a large number of sample fields in Whitman Co, WA from Water Year (WY)\\n1941 through WY 1982, to examine historic trends in erosion and corresponding climate\\nconditions. During this period, the winter wheat/summer fallow rotation was used on much of\\nthe area, including the higher precipitation zone more suitable for annual cropping. Erosion was\\nlow during several consecutive years in the 43-year data set. Weather records for these years\\nindicate reduced freeze/thaw activity with little rain or snowmelt during thaw. Data analysis\\nindicated that soil loss was not correlated with diurnal freeze-thaw cycles, or with annual\\nsnowfall, or with snow at the time of thaw. Event soil erosion was positively correlated with precipitation during thaw, as was annual erosion with annual precipitation. Crop management\\nhad a substantial effect on infiltration and runoff, and an even greater effect on erosion. Read more Article Imagi dam: A Study of Soil Erosion, Reservoir Sedimentation and Water Supply at Dodoma, Central Tanz... January 1979 · Geografiska Annaler Series A Physical Geography Carl Christiansson Within the scope of the DUSER project (1968-74) research on land degradation and related problems was carried out in four catchments with reservoirs in Dodoma district, Tanzania. In this paper are presented findings from one of the catchments, Imagi. The results include quantitative indications of the seriousness of soil erosion and its implications on range conditions, surface water storage and ... [Show full abstract] water supply in central Tanzanian drylands. The catchment area covers 2.2 km2. It is situated in semiarid environment with inselbergs and pediment slopes as predominant landforms. Mean annual rainfall is 528 mm and annual potential evaporation is well above 2000 mm. Rainfall is strongly seasonal and confined to the months December-April. The vegetation is dense thicket and miombo woodland on the inselberg slopes and shrub and sparse grass on the pediment. The soils are of low fertility. Present dominating land use is grazing by livestock. For a period of more than 20 years, beginning in 1929, when the reservoir was built, the area was reserved as catchment for the Dodoma town water supply. In that period hydro-meteorological research was carried out in the catchment. Much of the rainfall was found to be lost by evaporation from interception storage and transpiration from the catchment vegetation. Annual runoff from the catchment varied between 3 and 17% of the rainfall. Losses through leakage and evaporation from the reservoir amounted in average to 50% of the max. volume stored in the respective years. The small size of the catchment, the low rainfall and the great water losses all contribute to the reservoir being filled in one year out of five only. During the period 1928-55 the responsible authorities in Dodoma had to enforce rationing of water in altogether 10 seasons. The reservoir is gradually losing capacity through sedimentation due to soil erosion in the catchment. As part of the DUSER programme the volume of sediment was assessed through levelling and sounding of profiles across the reservoir. Inventories of vegetation and erosion features in the catchment were made through air photo interpretation and field studies. Erosion was found to be slight on the densely vegetated inselberg slopes while on the pediment surfaces runoff and soil loss are more prominent. Splash, sheet wash and rilling are the dominating types of erosion. Gullying occurs along cattle tracks. The observed variations in sediment yield are shown to be directly related to changes in land use. When the earlier protected catchment was opened for cattle grazing the sediment yield rose by 50%. The average annual sediment yield for the period 1934-71 was 602 m3 or 900 ton/km2 which is comparatively low considering the steep slopes and the small catchment size. The rate of soil denudation distributed over the whole catchment varied during the same period between 0.50 and 0.83 mm p.a. which means a denuding effect measured on the pediment only between 1 and 3 mm p.a. The reservoir has on an average lost 0.78% p.a. of its original volume and the maximum depth has decreased from 10.8 to 5.7 m. Provided the average rate of sedimentation remains the same in the future the total life of the reservoir will be 120-130 years. As the ground water resources of the Dodoma area are unsufficiently known and permanent water for domestic purposes and watering of stock is scarce it is recommended not to discontinue the construction of surface water reservoirs but each project should include a prognosis of expected rate of sedimentation and a plan for soil and water conservation measures in the catchment. And unless control can be obtained over cultivation practices and the number of animals grazing in the area little can be done to prevent land degradation. Read more Article Nitrogen and Phosphorus Runoff Loss during Summer Season in Sandy Loam Red Pepper Field as Affected... December 2016 Kyung-Hwa Han  Hee-Myong Ro A field study was conducted to determine the runoff loss of N and P in small scale of red pepper field plots (10% slope), consisting of three different plots with black polyethylene vinyl mulching (mulching), ridge without mulching (ridge), and flat without ridge and mulching (flat). Composted manure and urea as a basal application were applied at rates of 20MT\\\\;ha^{-1} and 93kg\\\\;N\\\\;ha^{-1}, ... [Show full abstract] respectively. Urea at 189kg\\\\;N\\\\;ha^{-1} and fused phosphate at 67kg\\\\;P_2O_5\\\\;ha^{-1} were additionally applied on June 25 with different fertilization methods, broadcast application in flat plot and hole injection in ridge and mulching plots. Plant uptake of N and P was positively correlated with their respective concentrations in surface soil: mulching > ridge > flat plots. The runoff loss by soil erosion was higher in flat plot than ridge and mulching plot with contour line. Nitrate loss by the runoff water had no significant differences among three surface management practices, but the higher average value in ridge and mulching plots than flat plot. Especially, the flat plot had no phosphate loss during summer season. This is probably due to low labile P content in surface soil of flat plot. In the summation of soil and water loss, flat plot was higher in N and P loss than ridge and mulching plot with contour line. Nevertheless, the nitrate and phosphate loss by runoff water could be more important for non-point source management because the water could meet the river easier than eroded soil because of re-deposition around slope land. Read more Discover more Download citation What type of file do you want? RIS BibTeX Plain Text What do you want to download? Citation only Citation and abstract Download Discover the world's research Join ResearchGate to find the people and research you need to help your work. Join for free  ResearchGate iOS App Get it from the App Store now. Install Keep up with your stats and more Access scientific knowledge from anywhere  or Discover by subject area Recruit researchers Join for free Login Email Tip: Most researchers use their institutional email address as their ResearchGate login Password Forgot password? Keep me logged in Log in or Continue with LinkedIn Continue with Google Welcome back! Please log in. Email · Hint Tip: Most researchers use their institutional email address as their ResearchGate login Password Forgot password? Keep me logged in Log in or Continue with LinkedIn Continue with Google No account? Sign up Company About us News Careers Support Help Center Business solutions Advertising Recruiting © 2008-2020 ResearchGate GmbH. All rights reserved. Terms Privacy Copyright Imprint          \")\n"
     ]
    }
   ],
   "source": [
    "d = \"text\"\n",
    "\n",
    "ind_blob = []\n",
    "\n",
    "skip = [\"text/httpwwwljkimagfrPublicationsBasiliccomlmcpubliPUBLIInproceedings117681e94b6fff75cFastErosionPG07pdf.txt\", \"text/httpswwwgeoscimodeldevnet1212672019gmd1212672019pdf.txt\", \"text/httpspdfssemanticscholarorg67b85eba8c7c2329303b3f6f53889f3d5dfa8e47pdf.txt\"]\n",
    "\n",
    "import os\n",
    "for filename in os.listdir(d):\n",
    "    with open(os.path.join(d, filename), 'r') as f: # open in readonly mode\n",
    "        file_blob = \"\"\n",
    "        for l in f:\n",
    "            file_blob = file_blob + l\n",
    "        print(f.name)\n",
    "        if (f.name not in skip):\n",
    "            fs = top_sentance(file_blob, 5)\n",
    "        u = (f.name, fs, file_blob)\n",
    "        ind_blob.append(u)\n",
    "            \n",
    "print(len(ind_blob))\n",
    "\n",
    "print(ind_blob[0])"
   ]
  },
  {
   "cell_type": "code",
   "execution_count": 23,
   "metadata": {},
   "outputs": [
    {
     "data": {
      "text/plain": [
       "'The ann model was  trained to navigate a tractor over sloping terrain along a predetermined path with an average lateral d ev iation of 0.005 m.  though the model was not applicable for all field and soil conditions, t he results indicated  that ann s are capable of  accurately c ontrol ling the motion of a tractor under variable slope conditions.    As the ground water resources of the dodoma area are unsufficiently known and permanent water for domestic purposes and watering of stock is scarce it is recommended not to discontinue the construction of surface water reservoirs but each project should include a prognosis of expected rate of sedimentation and a plan for soil and water conservation measures in the catchment. Nt   using the measurement s from the field study, we c alculat ed that only 1.2 ha of c ontour furrow, or two passes with 3.7 m wide deep furrow drill, would be required  to capture the runoff from a hypothetical 60 - ha contributing area resulting from a 100 - yr, 24 - h storm producing 64 mm  (2.5 in) of rainfall ( table  1 ). Our results dem onsrate that a stri p of deep - furrow seeding precisel y contoured on the upper shoulder slope should provide sufficient detention storage to capture and hold the runoff from a 100 - yr 24 - h storm if the contour strip area was approximately 2% of the runoff collection area. Early stand establishment is an important and sowing date effects on straw and grain yield, and grain yield factor for increasing grain yield, and it is strongly influ- components of winter wheat cultivars with semidwarf, standard height, enced by seed-zone water content and depth of soil or tall growth habit.'"
      ]
     },
     "execution_count": 23,
     "metadata": {},
     "output_type": "execute_result"
    }
   ],
   "source": []
  },
  {
   "cell_type": "code",
   "execution_count": 44,
   "metadata": {},
   "outputs": [
    {
     "name": "stdout",
     "output_type": "stream",
     "text": [
      "html/httpsenwikipediaorgwikiBaerE28093Babinetlaw.html https://en.wikipedia.org/wiki/Baer%E2%80%93Babinet_law\n"
     ]
    }
   ],
   "source": [
    "def get_the_url(tu):\n",
    "    safe_urls = []\n",
    "    for url in urls:\n",
    "        s = safe_str(url)\n",
    "        s = 'html/' + s + '.html'\n",
    "        safe_urls.append(s)\n",
    "    i = safe_urls.index(tu)\n",
    "    return urls[i]\n",
    "    \n",
    "for filename in os.listdir(d):\n",
    "    v = os.path.join(d, filename)\n",
    "\n",
    "print(v, get_the_url(v))"
   ]
  },
  {
   "cell_type": "code",
   "execution_count": 51,
   "metadata": {},
   "outputs": [
    {
     "name": "stdout",
     "output_type": "stream",
     "text": [
      "pdf: /2073-4441/11/10/2118/pdf\n",
      "pdf: /2073-4441/11/10/2118/pdf\n",
      "saving pdf to pdfs/2073444111102118pdf.pdf\n",
      "saving pdf to pdfs/2073444111102118pdf.pdf\n",
      "pdf: https://www.researchgate.net/profile/Randall_Rauwendaal/publication/235984970_Contour_Planting_A_Strategy_to_Reduce_Soil_Erosion_on_Steep_Slopes/links/02e7e515324e39519f000000/Contour-Planting-A-Strategy-to-Reduce-Soil-Erosion-on-Steep-Slopes.pdf\n",
      "pdf: https://www.researchgate.net/profile/Randall_Rauwendaal/publication/235984970_Contour_Planting_A_Strategy_to_Reduce_Soil_Erosion_on_Steep_Slopes/links/02e7e515324e39519f000000/Contour-Planting-A-Strategy-to-Reduce-Soil-Erosion-on-Steep-Slopes.pdf\n",
      "saving pdf to pdfs/httpswwwresearchgatenetprofileRandallRauwendaalpublication235984970ContourPlantingAStrategytoReduceSoilErosiononSteepSlopeslinks02e7e515324e39519f000000ContourPlantingAStrategytoReduceSoilErosiononSteepSlopespdf.pdf\n",
      "saving pdf to pdfs/httpswwwresearchgatenetprofileRandallRauwendaalpublication235984970ContourPlantingAStrategytoReduceSoilErosiononSteepSlopeslinks02e7e515324e39519f000000ContourPlantingAStrategytoReduceSoilErosiononSteepSlopespdf.pdf\n",
      "pdf: /-/media/dot-media/documents/caltrans-certification-letter-simm25b-20190628-a11y.pdf\n",
      "pdf: /-/media/dot-media/programs/environmental-analysis/documents/ct-dea-brochure-a11y.pdf\n",
      "pdf: /-/media/dot-media/programs/environmental-analysis/documents/fstip-factsheet-a11y.pdf\n",
      "pdf: /-/media/dot-media/programs/environmental-analysis/documents/main-acronym-abbrev-a11y.pdf\n",
      "saving pdf to pdfs/mediadotmediadocumentscaltranscertificationlettersimm25b20190628a11ypdf.pdf\n",
      "saving pdf to pdfs/mediadotmediaprogramsenvironmentalanalysisdocumentsctdeabrochurea11ypdf.pdf\n",
      "saving pdf to pdfs/mediadotmediaprogramsenvironmentalanalysisdocumentsfstipfactsheeta11ypdf.pdf\n",
      "saving pdf to pdfs/mediadotmediaprogramsenvironmentalanalysisdocumentsmainacronymabbreva11ypdf.pdf\n",
      "pdf: /content/jswc/58/3/128.full.pdf\n",
      "pdf: /content/58/3.toc.pdf\n",
      "pdf: /content/jswc/58/3/local/front-matter.pdf\n",
      "pdf: /content/jswc/58/3/128.full-text.pdf\n",
      "pdf: /content/58/3/128.full.pdf\n",
      "saving pdf to pdfs/contentjswc583128fullpdf.pdf\n",
      "saving pdf to pdfs/content583tocpdf.pdf\n",
      "saving pdf to pdfs/contentjswc583localfrontmatterpdf.pdf\n",
      "saving pdf to pdfs/contentjswc583128fulltextpdf.pdf\n",
      "saving pdf to pdfs/content583128fullpdf.pdf\n",
      "pdf: http://downloads.hindawi.com/journals/tswj/2014/404059.pdf\n",
      "pdf: http://downloads.hindawi.com/journals/tswj/2014/404059.pdf\n",
      "saving pdf to pdfs/httpdownloadshindawicomjournalstswj2014404059pdf.pdf\n",
      "saving pdf to pdfs/httpdownloadshindawicomjournalstswj2014404059pdf.pdf\n",
      "pdf: http://www.dot.ca.gov/hq/env/stormwater/pdf/CTSW-RT-06-137-20-1.pdf\n",
      "saving pdf to pdfs/httpwwwdotcagovhqenvstormwaterpdfCTSWRT06137201pdf.pdf\n",
      "pdf: /pmc/articles/PMC5896951/pdf/pone.0195557.pdf\n",
      "saving pdf to pdfs/pmcarticlesPMC5896951pdfpone0195557pdf.pdf\n",
      "pdf: /english/engineer/facts/12-053.pdf\n",
      "saving pdf to pdfs/englishengineerfacts12053pdf.pdf\n"
     ]
    }
   ],
   "source": [
    "d = \"html\"\n",
    "\n",
    "for filename in os.listdir(d):\n",
    "    fullname = os.path.join(d, filename)\n",
    "    with open(fullname, 'r') as f: # open in readonly mode\n",
    "        web_url = get_the_url(fullname)\n",
    "        \n",
    "        html = f.read()\n",
    "\n",
    "        pdfs = get_all_pdfs_2(html)\n",
    "        \n",
    "        if pdfs is not None:\n",
    "            for pdf in pdfs:\n",
    "                n = os.path.join(\"pdfs\", safe_str(pdf)+'.pdf')\n",
    "                print(\"saving pdf to\", n)\n",
    "\n",
    "                if pdf.startswith(\"http\"):\n",
    "                    r = requests.get(pdf, stream=True)\n",
    "                else:\n",
    "                    pdf = web_url + pdf\n",
    "                    r = requests.get(pdf, stream=True)\n",
    "                    \n",
    "\n",
    "                if not os.path.exists(os.path.dirname(n)):\n",
    "                    try:\n",
    "                        os.makedirs(os.path.dirname(n))\n",
    "                    except OSError as exc:\n",
    "                        if exc.errno != errno.EEXIST:\n",
    "                            raise\n",
    "\n",
    "                r = requests.get(url, stream=True)\n",
    "\n",
    "                with open(n, 'wb') as f:\n",
    "                    f.write(r.content)"
   ]
  },
  {
   "cell_type": "code",
   "execution_count": null,
   "metadata": {},
   "outputs": [],
   "source": []
  }
 ],
 "metadata": {
  "kernelspec": {
   "display_name": "Python 3",
   "language": "python",
   "name": "python3"
  },
  "language_info": {
   "codemirror_mode": {
    "name": "ipython",
    "version": 3
   },
   "file_extension": ".py",
   "mimetype": "text/x-python",
   "name": "python",
   "nbconvert_exporter": "python",
   "pygments_lexer": "ipython3",
   "version": "3.7.7"
  }
 },
 "nbformat": 4,
 "nbformat_minor": 4
}
