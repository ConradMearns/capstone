{
 "cells": [
  {
   "cell_type": "code",
   "execution_count": 35,
   "metadata": {},
   "outputs": [
    {
     "data": {
      "text/plain": [
       "['Friday, March 27, 2020',\n",
       " 'Saturday, April 25, 2020',\n",
       " 'Friday, April 10, 2020',\n",
       " 'Wednesday, April 1, 2020',\n",
       " 'Thursday, April 9, 2020',\n",
       " 'Saturday, April 18, 2020',\n",
       " 'Thursday, March 26, 2020',\n",
       " 'Wednesday, March 25, 2020',\n",
       " 'Wednesday, April 29, 2020',\n",
       " 'Tuesday, April 28, 2020',\n",
       " 'Sunday, March 15, 2020',\n",
       " 'Thursday, February 27, 2020',\n",
       " 'Thursday, May 7, 2020',\n",
       " 'Friday, February 21, 2020',\n",
       " 'Tuesday, March 3, 2020']"
      ]
     },
     "execution_count": 35,
     "metadata": {},
     "output_type": "execute_result"
    }
   ],
   "source": [
    "dates = \"\"\"Friday, March 27, 2020\n",
    "Saturday, April 25, 2020\n",
    "Friday, April 10, 2020\n",
    "Wednesday, April 1, 2020\n",
    "Thursday, April 9, 2020\n",
    "Saturday, April 18, 2020\n",
    "Thursday, March 26, 2020\n",
    "Wednesday, March 25, 2020\n",
    "Wednesday, April 29, 2020\n",
    "Tuesday, April 28, 2020\n",
    "Sunday, March 15, 2020\n",
    "Thursday, February 27, 2020\n",
    "Thursday, May 7, 2020\n",
    "Friday, February 21, 2020\n",
    "Tuesday, March 3, 2020\"\"\".split(\"\\n\")\n",
    "dates"
   ]
  },
  {
   "cell_type": "code",
   "execution_count": 36,
   "metadata": {},
   "outputs": [
    {
     "name": "stdout",
     "output_type": "stream",
     "text": [
      "15\n"
     ]
    },
    {
     "data": {
      "text/plain": [
       "['Friday, February 21, 2020',\n",
       " 'Thursday, February 27, 2020',\n",
       " 'Tuesday, March 3, 2020',\n",
       " 'Sunday, March 15, 2020',\n",
       " 'Wednesday, March 25, 2020',\n",
       " 'Thursday, March 26, 2020',\n",
       " 'Friday, March 27, 2020',\n",
       " 'Wednesday, April 1, 2020',\n",
       " 'Thursday, April 9, 2020',\n",
       " 'Friday, April 10, 2020',\n",
       " 'Saturday, April 18, 2020',\n",
       " 'Saturday, April 25, 2020',\n",
       " 'Tuesday, April 28, 2020',\n",
       " 'Wednesday, April 29, 2020',\n",
       " 'Thursday, May 7, 2020']"
      ]
     },
     "execution_count": 36,
     "metadata": {},
     "output_type": "execute_result"
    }
   ],
   "source": [
    "dates.sort(key = lambda date: datetime.datetime.strptime(date, '%A, %B %d, %Y')) \n",
    "print(len(dates))\n",
    "dates"
   ]
  },
  {
   "cell_type": "code",
   "execution_count": 34,
   "metadata": {},
   "outputs": [
    {
     "data": {
      "text/plain": [
       "15"
      ]
     },
     "execution_count": 34,
     "metadata": {},
     "output_type": "execute_result"
    }
   ],
   "source": [
    "len(\"\"\"000.md\n",
    "010.md\n",
    "100.md\n",
    "200.md\n",
    "300.md\n",
    "400.md\n",
    "500.md\n",
    "600.md\n",
    "700.md\n",
    "800.md\n",
    "900.md\n",
    "910.md\n",
    "920.md\n",
    "log0.md\n",
    "log1.md\"\"\".split(\"\\n\"))\n",
    "\n",
    "# Friday, February 21, 2020\n",
    "# Tuesday, March 3, 2020"
   ]
  },
  {
   "cell_type": "code",
   "execution_count": null,
   "metadata": {},
   "outputs": [],
   "source": []
  }
 ],
 "metadata": {
  "kernelspec": {
   "display_name": "Python 3",
   "language": "python",
   "name": "python3"
  },
  "language_info": {
   "codemirror_mode": {
    "name": "ipython",
    "version": 3
   },
   "file_extension": ".py",
   "mimetype": "text/x-python",
   "name": "python",
   "nbconvert_exporter": "python",
   "pygments_lexer": "ipython3",
   "version": "3.7.7"
  }
 },
 "nbformat": 4,
 "nbformat_minor": 4
}
